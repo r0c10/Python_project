{
  "nbformat": 4,
  "nbformat_minor": 0,
  "metadata": {
    "colab": {
      "name": "Proyecto_Final.ipynb",
      "provenance": [],
      "toc_visible": true,
      "mount_file_id": "1HBaafO4mP3wFAXo54bzUCZkBGHou9p2f",
      "authorship_tag": "ABX9TyNep9hI2XPChyjARYkbDDTv",
      "include_colab_link": true
    },
    "kernelspec": {
      "name": "python3",
      "display_name": "Python 3"
    }
  },
  "cells": [
    {
      "cell_type": "markdown",
      "metadata": {
        "id": "view-in-github",
        "colab_type": "text"
      },
      "source": [
        "<a href=\"https://colab.research.google.com/github/r0c10/Python_project/blob/master/Proyecto_Final.ipynb\" target=\"_parent\"><img src=\"https://colab.research.google.com/assets/colab-badge.svg\" alt=\"Open In Colab\"/></a>"
      ]
    },
    {
      "cell_type": "markdown",
      "metadata": {
        "id": "AjqVyfEgu_uc",
        "colab_type": "text"
      },
      "source": [
        "## Parte 1: Entrenamiento, selección y validación"
      ]
    },
    {
      "cell_type": "code",
      "metadata": {
        "id": "CUJGdOmqafL5",
        "colab_type": "code",
        "colab": {}
      },
      "source": [
        "import pandas as pd\n",
        "import numpy as np\n",
        "from sklearn import tree\n",
        "from sklearn.model_selection import train_test_split\n",
        "from sklearn import metrics\n",
        "import re\n",
        "import matplotlib.pyplot as plt\n",
        "import seaborn as sns"
      ],
      "execution_count": 91,
      "outputs": []
    },
    {
      "cell_type": "markdown",
      "metadata": {
        "id": "0-6QGJr1A3th",
        "colab_type": "text"
      },
      "source": [
        "## Feature Engineering"
      ]
    },
    {
      "cell_type": "code",
      "metadata": {
        "id": "fUTksQo_PTPw",
        "colab_type": "code",
        "colab": {
          "resources": {
            "http://localhost:8080/nbextensions/google.colab/files.js": {
              "data": "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",
              "ok": true,
              "headers": [
                [
                  "content-type",
                  "application/javascript"
                ]
              ],
              "status": 200,
              "status_text": ""
            }
          },
          "base_uri": "https://localhost:8080/",
          "height": 38
        },
        "outputId": "db1114d6-828d-4f66-a2e1-67a5089428a4"
      },
      "source": [
        "from google.colab import files\n",
        "uploaded = files.upload()"
      ],
      "execution_count": 92,
      "outputs": [
        {
          "output_type": "display_data",
          "data": {
            "text/html": [
              "\n",
              "     <input type=\"file\" id=\"files-469d64c3-9c42-4bbb-8fc4-5a77b434d810\" name=\"files[]\" multiple disabled\n",
              "        style=\"border:none\" />\n",
              "     <output id=\"result-469d64c3-9c42-4bbb-8fc4-5a77b434d810\">\n",
              "      Upload widget is only available when the cell has been executed in the\n",
              "      current browser session. Please rerun this cell to enable.\n",
              "      </output>\n",
              "      <script src=\"/nbextensions/google.colab/files.js\"></script> "
            ],
            "text/plain": [
              "<IPython.core.display.HTML object>"
            ]
          },
          "metadata": {
            "tags": []
          }
        }
      ]
    },
    {
      "cell_type": "code",
      "metadata": {
        "id": "b3f3YWQdaiDQ",
        "colab_type": "code",
        "colab": {
          "base_uri": "https://localhost:8080/",
          "height": 255
        },
        "outputId": "e7026bc7-9e2c-47c6-be0e-16a32a346bcc"
      },
      "source": [
        "df_titanic = pd.read_csv('data_titanic_proyecto.csv')\n",
        "df_titanic.head()"
      ],
      "execution_count": 93,
      "outputs": [
        {
          "output_type": "execute_result",
          "data": {
            "text/html": [
              "<div>\n",
              "<style scoped>\n",
              "    .dataframe tbody tr th:only-of-type {\n",
              "        vertical-align: middle;\n",
              "    }\n",
              "\n",
              "    .dataframe tbody tr th {\n",
              "        vertical-align: top;\n",
              "    }\n",
              "\n",
              "    .dataframe thead th {\n",
              "        text-align: right;\n",
              "    }\n",
              "</style>\n",
              "<table border=\"1\" class=\"dataframe\">\n",
              "  <thead>\n",
              "    <tr style=\"text-align: right;\">\n",
              "      <th></th>\n",
              "      <th>PassengerId</th>\n",
              "      <th>Name</th>\n",
              "      <th>Age</th>\n",
              "      <th>SibSp</th>\n",
              "      <th>Parch</th>\n",
              "      <th>Ticket</th>\n",
              "      <th>Fare</th>\n",
              "      <th>Cabin</th>\n",
              "      <th>Embarked</th>\n",
              "      <th>passenger_class</th>\n",
              "      <th>passenger_sex</th>\n",
              "      <th>passenger_survived</th>\n",
              "    </tr>\n",
              "  </thead>\n",
              "  <tbody>\n",
              "    <tr>\n",
              "      <th>0</th>\n",
              "      <td>1</td>\n",
              "      <td>Braund, Mr. Owen Harris</td>\n",
              "      <td>22.0</td>\n",
              "      <td>1</td>\n",
              "      <td>0</td>\n",
              "      <td>A/5 21171</td>\n",
              "      <td>7.2500</td>\n",
              "      <td>NaN</td>\n",
              "      <td>S</td>\n",
              "      <td>Lower</td>\n",
              "      <td>M</td>\n",
              "      <td>N</td>\n",
              "    </tr>\n",
              "    <tr>\n",
              "      <th>1</th>\n",
              "      <td>2</td>\n",
              "      <td>Cumings, Mrs. John Bradley (Florence Briggs Th...</td>\n",
              "      <td>38.0</td>\n",
              "      <td>1</td>\n",
              "      <td>0</td>\n",
              "      <td>PC 17599</td>\n",
              "      <td>71.2833</td>\n",
              "      <td>C85</td>\n",
              "      <td>C</td>\n",
              "      <td>Upper</td>\n",
              "      <td>F</td>\n",
              "      <td>Y</td>\n",
              "    </tr>\n",
              "    <tr>\n",
              "      <th>2</th>\n",
              "      <td>3</td>\n",
              "      <td>Heikkinen, Miss. Laina</td>\n",
              "      <td>26.0</td>\n",
              "      <td>0</td>\n",
              "      <td>0</td>\n",
              "      <td>STON/O2. 3101282</td>\n",
              "      <td>7.9250</td>\n",
              "      <td>NaN</td>\n",
              "      <td>S</td>\n",
              "      <td>Lower</td>\n",
              "      <td>F</td>\n",
              "      <td>Y</td>\n",
              "    </tr>\n",
              "    <tr>\n",
              "      <th>3</th>\n",
              "      <td>4</td>\n",
              "      <td>Futrelle, Mrs. Jacques Heath (Lily May Peel)</td>\n",
              "      <td>35.0</td>\n",
              "      <td>1</td>\n",
              "      <td>0</td>\n",
              "      <td>113803</td>\n",
              "      <td>53.1000</td>\n",
              "      <td>C123</td>\n",
              "      <td>S</td>\n",
              "      <td>Upper</td>\n",
              "      <td>F</td>\n",
              "      <td>Y</td>\n",
              "    </tr>\n",
              "    <tr>\n",
              "      <th>4</th>\n",
              "      <td>5</td>\n",
              "      <td>Allen, Mr. William Henry</td>\n",
              "      <td>35.0</td>\n",
              "      <td>0</td>\n",
              "      <td>0</td>\n",
              "      <td>373450</td>\n",
              "      <td>8.0500</td>\n",
              "      <td>NaN</td>\n",
              "      <td>S</td>\n",
              "      <td>Lower</td>\n",
              "      <td>M</td>\n",
              "      <td>N</td>\n",
              "    </tr>\n",
              "  </tbody>\n",
              "</table>\n",
              "</div>"
            ],
            "text/plain": [
              "   PassengerId  ... passenger_survived\n",
              "0            1  ...                  N\n",
              "1            2  ...                  Y\n",
              "2            3  ...                  Y\n",
              "3            4  ...                  Y\n",
              "4            5  ...                  N\n",
              "\n",
              "[5 rows x 12 columns]"
            ]
          },
          "metadata": {
            "tags": []
          },
          "execution_count": 93
        }
      ]
    },
    {
      "cell_type": "code",
      "metadata": {
        "id": "Yb49kI9kF2j9",
        "colab_type": "code",
        "colab": {
          "base_uri": "https://localhost:8080/",
          "height": 85
        },
        "outputId": "c2cb5331-3d02-4d04-e2f7-ef01f0788154"
      },
      "source": [
        "full_data = [df_titanic]\n",
        "\n",
        "# Feature that tells whether a passenger had a cabin on the Titanic\n",
        "df_titanic['Has_Cabin'] = df_titanic[\"Cabin\"].apply(lambda x: 0 if type(x) == float else 1)\n",
        "\n",
        "# Feature engineering steps taken from Sina\n",
        "# Create new feature FamilySize as a combination of SibSp and Parch\n",
        "for dataset in full_data:\n",
        "    dataset['FamilySize'] = dataset['SibSp'] + dataset['Parch'] + 1\n",
        "# Create new feature IsAlone from FamilySize\n",
        "for dataset in full_data:\n",
        "    dataset['IsAlone'] = 0\n",
        "    dataset.loc[dataset['FamilySize'] == 1, 'IsAlone'] = 1\n",
        "# Remove all NULLS in the Embarked column\n",
        "for dataset in full_data:\n",
        "    dataset['Embarked'] = dataset['Embarked'].fillna('S')\n",
        "# Remove all NULLS in the Fare column and create a new feature CategoricalFare\n",
        "for dataset in full_data:\n",
        "    dataset['Fare'] = dataset['Fare'].fillna(df_titanic['Fare'].median())\n",
        "df_titanic['CategoricalFare'] = pd.qcut(df_titanic['Fare'], 4,duplicates='drop')\n",
        "# Create a New feature CategoricalAge\n",
        "for dataset in full_data:\n",
        "    age_avg = dataset['Age'].mean()\n",
        "    age_std = dataset['Age'].std()\n",
        "    age_null_count = dataset['Age'].isnull().sum()\n",
        "    age_null_random_list = np.random.randint(age_avg - age_std, age_avg + age_std, size=age_null_count)\n",
        "    dataset['Age'][np.isnan(dataset['Age'])] = age_null_random_list\n",
        "    dataset['Age'] = dataset['Age'].astype(int)\n",
        "df_titanic['CategoricalAge'] = pd.cut(df_titanic['Age'], 5)\n",
        "# Define function to extract titles from passenger names\n",
        "def get_title(name):\n",
        "    title_search = re.search(' ([A-Za-z]+)\\.', name)\n",
        "    # If the title exists, extract and return it.\n",
        "    if title_search:\n",
        "        return title_search.group(1)\n",
        "    return \"\"\n",
        "# Create a new feature Title, containing the titles of passenger names\n",
        "for dataset in full_data:\n",
        "    dataset['Title'] = dataset['Name'].apply(get_title)\n",
        "# Group all non-common titles into one single grouping \"Rare\"\n",
        "for dataset in full_data:\n",
        "    dataset['Title'] = dataset['Title'].replace(['Lady', 'Countess','Capt', 'Col','Don', 'Dr', 'Major', 'Rev', 'Sir', 'Jonkheer', 'Dona'], 'Rare')\n",
        "    dataset['Title'] = dataset['Title'].replace('Mlle', 'Miss')\n",
        "    dataset['Title'] = dataset['Title'].replace('Ms', 'Miss')\n",
        "    dataset['Title'] = dataset['Title'].replace('Mme', 'Mrs')\n",
        "\n",
        "for dataset in full_data:\n",
        "    # Mapping Sex\n",
        "    dataset['passenger_sex'] = dataset['passenger_sex'].map( {'F': 0, 'M': 1} ).astype(int)\n",
        "    # Mapping titles\n",
        "    title_mapping = {\"Mr\": 0, \"Miss\": 1, \"Mrs\": 2, \"Master\": 3, \"Rare\": 4}\n",
        "    dataset['Title'] = dataset['Title'].map(title_mapping)\n",
        "    dataset['Title'] = dataset['Title'].fillna(0)\n",
        "    # Mapping Embarked\n",
        "    dataset['Embarked'] = dataset['Embarked'].map( {'S': 0, 'C': 1, 'Q': 2} ).astype(int)\n",
        "    # Mapping Fare\n",
        "    dataset.loc[ dataset['Fare'] <= 7.91, 'Fare']                               = 0\n",
        "    dataset.loc[(dataset['Fare'] > 7.91) & (dataset['Fare'] <= 14.454), 'Fare'] = 1\n",
        "    dataset.loc[(dataset['Fare'] > 14.454) & (dataset['Fare'] <= 31), 'Fare']   = 2\n",
        "    dataset.loc[ dataset['Fare'] > 31, 'Fare']                                  = 3\n",
        "    dataset['Fare'] = dataset['Fare'].astype(int)\n",
        "    # Mapping passenger_class\n",
        "    dataset['passenger_class'] = dataset['passenger_class'].map( {'Lower': 1, 'Middle': 2, 'Upper': 3} ).astype(int)\n",
        "    # Mapping passenger_survived\n",
        "    dataset['passenger_survived'] = dataset['passenger_survived'].map( {'Y': 1, 'N': 0} ).astype(int)\n",
        "\n",
        "    # Mapping Age\n",
        "    dataset.loc[ dataset['Age'] <= 16, 'Age']                          = 0\n",
        "    dataset.loc[(dataset['Age'] > 16) & (dataset['Age'] <= 32), 'Age'] = 1\n",
        "    dataset.loc[(dataset['Age'] > 32) & (dataset['Age'] <= 48), 'Age'] = 2\n",
        "    dataset.loc[(dataset['Age'] > 48) & (dataset['Age'] <= 64), 'Age'] = 3\n",
        "    dataset.loc[ dataset['Age'] > 64, 'Age']  "
      ],
      "execution_count": 94,
      "outputs": [
        {
          "output_type": "stream",
          "text": [
            "/usr/local/lib/python3.6/dist-packages/ipykernel_launcher.py:27: SettingWithCopyWarning: \n",
            "A value is trying to be set on a copy of a slice from a DataFrame\n",
            "\n",
            "See the caveats in the documentation: https://pandas.pydata.org/pandas-docs/stable/user_guide/indexing.html#returning-a-view-versus-a-copy\n"
          ],
          "name": "stderr"
        }
      ]
    },
    {
      "cell_type": "code",
      "metadata": {
        "id": "WQh2kgrLe6Xa",
        "colab_type": "code",
        "colab": {}
      },
      "source": [
        "# Feature selection\n",
        "data_titanic = df_titanic.drop(['Name', 'Ticket', 'Cabin','CategoricalAge', 'CategoricalFare'], axis=1)"
      ],
      "execution_count": 95,
      "outputs": []
    },
    {
      "cell_type": "code",
      "metadata": {
        "id": "y-G0UphrI9Uo",
        "colab_type": "code",
        "colab": {
          "base_uri": "https://localhost:8080/",
          "height": 142
        },
        "outputId": "12d3be50-9e12-4409-fb0d-06529b09aeb4"
      },
      "source": [
        "data_titanic.head(3)"
      ],
      "execution_count": null,
      "outputs": [
        {
          "output_type": "execute_result",
          "data": {
            "text/html": [
              "<div>\n",
              "<style scoped>\n",
              "    .dataframe tbody tr th:only-of-type {\n",
              "        vertical-align: middle;\n",
              "    }\n",
              "\n",
              "    .dataframe tbody tr th {\n",
              "        vertical-align: top;\n",
              "    }\n",
              "\n",
              "    .dataframe thead th {\n",
              "        text-align: right;\n",
              "    }\n",
              "</style>\n",
              "<table border=\"1\" class=\"dataframe\">\n",
              "  <thead>\n",
              "    <tr style=\"text-align: right;\">\n",
              "      <th></th>\n",
              "      <th>PassengerId</th>\n",
              "      <th>Age</th>\n",
              "      <th>SibSp</th>\n",
              "      <th>Parch</th>\n",
              "      <th>Fare</th>\n",
              "      <th>Embarked</th>\n",
              "      <th>passenger_class</th>\n",
              "      <th>passenger_sex</th>\n",
              "      <th>passenger_survived</th>\n",
              "      <th>Has_Cabin</th>\n",
              "      <th>FamilySize</th>\n",
              "      <th>IsAlone</th>\n",
              "      <th>Title</th>\n",
              "    </tr>\n",
              "  </thead>\n",
              "  <tbody>\n",
              "    <tr>\n",
              "      <th>0</th>\n",
              "      <td>1</td>\n",
              "      <td>1</td>\n",
              "      <td>1</td>\n",
              "      <td>0</td>\n",
              "      <td>0</td>\n",
              "      <td>0</td>\n",
              "      <td>1</td>\n",
              "      <td>1</td>\n",
              "      <td>0</td>\n",
              "      <td>0</td>\n",
              "      <td>2</td>\n",
              "      <td>0</td>\n",
              "      <td>0</td>\n",
              "    </tr>\n",
              "    <tr>\n",
              "      <th>1</th>\n",
              "      <td>2</td>\n",
              "      <td>2</td>\n",
              "      <td>1</td>\n",
              "      <td>0</td>\n",
              "      <td>3</td>\n",
              "      <td>1</td>\n",
              "      <td>3</td>\n",
              "      <td>0</td>\n",
              "      <td>1</td>\n",
              "      <td>1</td>\n",
              "      <td>2</td>\n",
              "      <td>0</td>\n",
              "      <td>2</td>\n",
              "    </tr>\n",
              "    <tr>\n",
              "      <th>2</th>\n",
              "      <td>3</td>\n",
              "      <td>1</td>\n",
              "      <td>0</td>\n",
              "      <td>0</td>\n",
              "      <td>1</td>\n",
              "      <td>0</td>\n",
              "      <td>1</td>\n",
              "      <td>0</td>\n",
              "      <td>1</td>\n",
              "      <td>0</td>\n",
              "      <td>1</td>\n",
              "      <td>1</td>\n",
              "      <td>1</td>\n",
              "    </tr>\n",
              "  </tbody>\n",
              "</table>\n",
              "</div>"
            ],
            "text/plain": [
              "   PassengerId  Age  SibSp  Parch  ...  Has_Cabin  FamilySize  IsAlone  Title\n",
              "0            1    1      1      0  ...          0           2        0      0\n",
              "1            2    2      1      0  ...          1           2        0      2\n",
              "2            3    1      0      0  ...          0           1        1      1\n",
              "\n",
              "[3 rows x 13 columns]"
            ]
          },
          "metadata": {
            "tags": []
          },
          "execution_count": 5
        }
      ]
    },
    {
      "cell_type": "markdown",
      "metadata": {
        "id": "QlvELEF3SUBH",
        "colab_type": "text"
      },
      "source": [
        "#### Correlation"
      ]
    },
    {
      "cell_type": "markdown",
      "metadata": {
        "id": "vZq7xAQ1fTk-",
        "colab_type": "text"
      },
      "source": [
        "#### TRAIN, VALIDATION AND TEST SET:"
      ]
    },
    {
      "cell_type": "code",
      "metadata": {
        "id": "wgPeSU30btlD",
        "colab_type": "code",
        "colab": {
          "base_uri": "https://localhost:8080/",
          "height": 51
        },
        "outputId": "7f311604-d8a4-4161-e65c-26e4a6df462f"
      },
      "source": [
        "train, test = train_test_split(data_titanic, test_size = 0.20)\n",
        "print(train.shape)\n",
        "print(test.shape)"
      ],
      "execution_count": 96,
      "outputs": [
        {
          "output_type": "stream",
          "text": [
            "(712, 13)\n",
            "(179, 13)\n"
          ],
          "name": "stdout"
        }
      ]
    },
    {
      "cell_type": "code",
      "metadata": {
        "id": "uhGmVHX5dTbx",
        "colab_type": "code",
        "colab": {}
      },
      "source": [
        "PassengerId = test['PassengerId']\n",
        "PassengerId.to_csv(\"PassengerId.csv\",index=False)"
      ],
      "execution_count": 100,
      "outputs": []
    },
    {
      "cell_type": "code",
      "metadata": {
        "id": "QxvF9JtReEC2",
        "colab_type": "code",
        "colab": {}
      },
      "source": [
        "train = train.drop(['PassengerId'], axis=1)\n",
        "test = test.drop(['PassengerId'], axis=1)\n",
        "train.to_csv(\"train.csv\",index=False)\n",
        "test.to_csv(\"test.csv\",index=False)"
      ],
      "execution_count": null,
      "outputs": []
    },
    {
      "cell_type": "code",
      "metadata": {
        "id": "B79ZhfMSNgta",
        "colab_type": "code",
        "colab": {
          "base_uri": "https://localhost:8080/",
          "height": 142
        },
        "outputId": "357fea0a-9c2a-47b7-fd3a-ace7bfa44b63"
      },
      "source": [
        "train.head(3)\n",
        "test.head(3)"
      ],
      "execution_count": null,
      "outputs": [
        {
          "output_type": "execute_result",
          "data": {
            "text/html": [
              "<div>\n",
              "<style scoped>\n",
              "    .dataframe tbody tr th:only-of-type {\n",
              "        vertical-align: middle;\n",
              "    }\n",
              "\n",
              "    .dataframe tbody tr th {\n",
              "        vertical-align: top;\n",
              "    }\n",
              "\n",
              "    .dataframe thead th {\n",
              "        text-align: right;\n",
              "    }\n",
              "</style>\n",
              "<table border=\"1\" class=\"dataframe\">\n",
              "  <thead>\n",
              "    <tr style=\"text-align: right;\">\n",
              "      <th></th>\n",
              "      <th>Age</th>\n",
              "      <th>SibSp</th>\n",
              "      <th>Parch</th>\n",
              "      <th>Fare</th>\n",
              "      <th>Embarked</th>\n",
              "      <th>passenger_class</th>\n",
              "      <th>passenger_sex</th>\n",
              "      <th>passenger_survived</th>\n",
              "      <th>Has_Cabin</th>\n",
              "      <th>FamilySize</th>\n",
              "      <th>IsAlone</th>\n",
              "      <th>Title</th>\n",
              "    </tr>\n",
              "  </thead>\n",
              "  <tbody>\n",
              "    <tr>\n",
              "      <th>386</th>\n",
              "      <td>0</td>\n",
              "      <td>5</td>\n",
              "      <td>2</td>\n",
              "      <td>3</td>\n",
              "      <td>0</td>\n",
              "      <td>1</td>\n",
              "      <td>1</td>\n",
              "      <td>0</td>\n",
              "      <td>0</td>\n",
              "      <td>8</td>\n",
              "      <td>0</td>\n",
              "      <td>3</td>\n",
              "    </tr>\n",
              "    <tr>\n",
              "      <th>351</th>\n",
              "      <td>1</td>\n",
              "      <td>0</td>\n",
              "      <td>0</td>\n",
              "      <td>3</td>\n",
              "      <td>0</td>\n",
              "      <td>3</td>\n",
              "      <td>1</td>\n",
              "      <td>0</td>\n",
              "      <td>1</td>\n",
              "      <td>1</td>\n",
              "      <td>1</td>\n",
              "      <td>0</td>\n",
              "    </tr>\n",
              "    <tr>\n",
              "      <th>681</th>\n",
              "      <td>1</td>\n",
              "      <td>0</td>\n",
              "      <td>0</td>\n",
              "      <td>3</td>\n",
              "      <td>1</td>\n",
              "      <td>3</td>\n",
              "      <td>1</td>\n",
              "      <td>1</td>\n",
              "      <td>1</td>\n",
              "      <td>1</td>\n",
              "      <td>1</td>\n",
              "      <td>0</td>\n",
              "    </tr>\n",
              "  </tbody>\n",
              "</table>\n",
              "</div>"
            ],
            "text/plain": [
              "     Age  SibSp  Parch  Fare  ...  Has_Cabin  FamilySize  IsAlone  Title\n",
              "386    0      5      2     3  ...          0           8        0      3\n",
              "351    1      0      0     3  ...          1           1        1      0\n",
              "681    1      0      0     3  ...          1           1        1      0\n",
              "\n",
              "[3 rows x 12 columns]"
            ]
          },
          "metadata": {
            "tags": []
          },
          "execution_count": 9
        }
      ]
    },
    {
      "cell_type": "markdown",
      "metadata": {
        "id": "AVO33sPsp72i",
        "colab_type": "text"
      },
      "source": [
        "Our dataset is now much cleaner than before, with only numerical values and potentially meaningful features. Let's now explore the relationship between our variables by plotting the Pearson Correlation between all the attributes in our dataset (credit to Anisotropic for this beautiful plot):"
      ]
    },
    {
      "cell_type": "code",
      "metadata": {
        "id": "oUdjLJtXSOPB",
        "colab_type": "code",
        "colab": {
          "base_uri": "https://localhost:8080/",
          "height": 753
        },
        "outputId": "583d5693-364b-4ad3-80d4-048885172cb4"
      },
      "source": [
        "colormap = plt.cm.viridis\n",
        "plt.figure(figsize=(12,12))\n",
        "plt.title('Pearson Correlation of Features', y=1.05, size=15)\n",
        "sns.heatmap(train.astype(float).corr(),linewidths=0.1,vmax=1.0, square=True, cmap=colormap, linecolor='white', annot=True)"
      ],
      "execution_count": null,
      "outputs": [
        {
          "output_type": "execute_result",
          "data": {
            "text/plain": [
              "<matplotlib.axes._subplots.AxesSubplot at 0x7fb834baaf28>"
            ]
          },
          "metadata": {
            "tags": []
          },
          "execution_count": 10
        },
        {
          "output_type": "display_data",
          "data": {
            "image/png": "[encoded data removed]",
            "text/plain": [
              "<Figure size 864x864 with 2 Axes>"
            ]
          },
          "metadata": {
            "tags": [],
            "needs_background": "light"
          }
        }
      ]
    },
    {
      "cell_type": "markdown",
      "metadata": {
        "id": "B83nIKmopt4d",
        "colab_type": "text"
      },
      "source": [
        "This heatmap is very useful as an initial observation because you can easily get an idea of the predictive value of each feature. In this case, Sex and Title show the highest correlations (in absolute terms) with the class (Survived): 0.54 and 0.49 respectively. But the absolute correlation between both is also very high (0.86, the highest in our dataset), so they are probably carrying the same information and using the two as inputs for the same model wouldn't be a good idea. High chances are one of them will be used for the first node in our final decision tree, so let's first explore further these features and compare them."
      ]
    },
    {
      "cell_type": "code",
      "metadata": {
        "id": "QBd_fWxYL8IJ",
        "colab_type": "code",
        "colab": {
          "base_uri": "https://localhost:8080/",
          "height": 102
        },
        "outputId": "f3d99251-1db6-4e75-c631-51c67eaf1068"
      },
      "source": [
        "#Split data into training and validation set\n",
        "X = train.drop(columns=['passenger_survived'], axis=1)\n",
        "y = train['passenger_survived']\n",
        "\n",
        "#Note they are labeled as test sets but I'm treating them as validation data sets.\n",
        "x_train, x_val, y_train, y_val = train_test_split(X, y, test_size=0.20)\n",
        "\n",
        "X_test = test.drop(columns=['passenger_survived'], axis=1)\n",
        "print('Train data shape: ', x_train.shape)\n",
        "print('Train labels shape: ', y_train.shape)\n",
        "print('Validation data shape: ', x_val.shape)\n",
        "print('Validation labels shape: ', y_val.shape)\n",
        "print('Test data shape: ', X_test.shape)"
      ],
      "execution_count": null,
      "outputs": [
        {
          "output_type": "stream",
          "text": [
            "Train data shape:  (569, 11)\n",
            "Train labels shape:  (569,)\n",
            "Validation data shape:  (143, 11)\n",
            "Validation labels shape:  (143,)\n",
            "Test data shape:  (179, 11)\n"
          ],
          "name": "stdout"
        }
      ]
    },
    {
      "cell_type": "code",
      "metadata": {
        "id": "MJJTlKIc6uEN",
        "colab_type": "code",
        "colab": {}
      },
      "source": [
        "# Guardando train, val and test values\n",
        "x_train.to_csv(\"x_train.csv\",index=False)\n",
        "y_train.to_csv(\"y_train.csv\",index=False)\n",
        "x_val.to_csv(\"x_val.csv\",index=False)\n",
        "y_val.to_csv(\"y_val.csv\",index=False)\n",
        "X_test.to_csv(\"X_test.csv\",index=False)"
      ],
      "execution_count": null,
      "outputs": []
    },
    {
      "cell_type": "markdown",
      "metadata": {
        "id": "X2gr3TiVy8pw",
        "colab_type": "text"
      },
      "source": [
        "## Modelos\n",
        "### Desicion Tree"
      ]
    },
    {
      "cell_type": "markdown",
      "metadata": {
        "id": "C25Ufvs40-8c",
        "colab_type": "text"
      },
      "source": [
        "I will do this for each model listed above. The dataframe below will hold the validation results."
      ]
    },
    {
      "cell_type": "code",
      "metadata": {
        "id": "aCOkc6nZ09a6",
        "colab_type": "code",
        "colab": {}
      },
      "source": [
        "results = pd.DataFrame(columns=['Validation'], index=['Decision Tree', 'Support Vector Machine', 'Naive Bayes', 'Logistic Regression'])"
      ],
      "execution_count": null,
      "outputs": []
    },
    {
      "cell_type": "markdown",
      "metadata": {
        "id": "33pYudxuqiNQ",
        "colab_type": "text"
      },
      "source": [
        "Finding best tree depth with the help of Cross Validation"
      ]
    },
    {
      "cell_type": "code",
      "metadata": {
        "id": "bU2RMc2qq3er",
        "colab_type": "code",
        "colab": {}
      },
      "source": [
        "from sklearn.model_selection import KFold"
      ],
      "execution_count": null,
      "outputs": []
    },
    {
      "cell_type": "code",
      "metadata": {
        "id": "riLVGyvSqeb8",
        "colab_type": "code",
        "colab": {
          "base_uri": "https://localhost:8080/",
          "height": 238
        },
        "outputId": "2bf52b71-9e04-4880-8aed-e4027b764b47"
      },
      "source": [
        "cv = KFold(n_splits=10)            # Desired number of Cross Validation folds\n",
        "accuracies = list()\n",
        "max_attributes = len(list(test))\n",
        "depth_range = range(1, max_attributes + 1)\n",
        "\n",
        "# Testing max_depths from 1 to max attributes\n",
        "# Uncomment prints for details about each Cross Validation pass\n",
        "for depth in depth_range:\n",
        "    fold_accuracy = []\n",
        "    tree_model = tree.DecisionTreeClassifier(max_depth = depth)\n",
        "    # print(\"Current max depth: \", depth, \"\\n\")\n",
        "    for train_fold, valid_fold in cv.split(train):\n",
        "        f_train = train.iloc[train_fold] # Extract train data with cv indices\n",
        "        f_valid = train.iloc[valid_fold] # Extract valid data with cv indices\n",
        "\n",
        "        model = tree_model.fit(X = f_train.drop(['passenger_survived'], axis=1), \n",
        "                               y = f_train['passenger_survived']) # We fit the model with the fold train data\n",
        "        valid_acc = model.score(X = f_valid.drop(['passenger_survived'], axis=1), \n",
        "                                y = f_valid['passenger_survived'])# We calculate accuracy with the fold validation data\n",
        "        fold_accuracy.append(valid_acc)\n",
        "\n",
        "    avg = sum(fold_accuracy)/len(fold_accuracy)\n",
        "    accuracies.append(avg)\n",
        "    # print(\"Accuracy per fold: \", fold_accuracy, \"\\n\")\n",
        "    # print(\"Average accuracy: \", avg)\n",
        "    # print(\"\\n\")\n",
        "    \n",
        "# Just to show results conveniently\n",
        "df = pd.DataFrame({\"Max Depth\": depth_range, \"Average Accuracy\": accuracies})\n",
        "df = df[[\"Max Depth\", \"Average Accuracy\"]]\n",
        "print(df.to_string(index=False))"
      ],
      "execution_count": null,
      "outputs": [
        {
          "output_type": "stream",
          "text": [
            " Max Depth  Average Accuracy\n",
            "         1          0.793427\n",
            "         2          0.787774\n",
            "         3          0.827230\n",
            "         4          0.834272\n",
            "         5          0.825841\n",
            "         6          0.817351\n",
            "         7          0.808998\n",
            "         8          0.803384\n",
            "         9          0.801956\n",
            "        10          0.793486\n",
            "        11          0.786444\n",
            "        12          0.786463\n"
          ],
          "name": "stdout"
        }
      ]
    },
    {
      "cell_type": "markdown",
      "metadata": {
        "id": "7FXA2-WjsV7P",
        "colab_type": "text"
      },
      "source": [
        "The best max_depth parameter seems therefore to be 3 (82.7% average accuracy across the 12 folds), and feeding the model with more data results in worst results probably due to over-fitting. We'll therefore use 5 as the max_depth parameter for our final model."
      ]
    },
    {
      "cell_type": "code",
      "metadata": {
        "id": "EH57KkhgtkhM",
        "colab_type": "code",
        "colab": {}
      },
      "source": [
        "from subprocess import check_call\n",
        "from PIL import Image, ImageDraw, ImageFont\n",
        "from IPython.display import Image as PImage"
      ],
      "execution_count": null,
      "outputs": []
    },
    {
      "cell_type": "code",
      "metadata": {
        "id": "GRHV77Wdsmv1",
        "colab_type": "code",
        "colab": {
          "base_uri": "https://localhost:8080/",
          "height": 529
        },
        "outputId": "d07e5b10-575d-4ecd-8a4b-2d5e16c33b25"
      },
      "source": [
        "# Create Decision Tree with max_depth = 3\n",
        "decision_tree = tree.DecisionTreeClassifier(max_depth = 3)\n",
        "decision_tree.fit(x_train, y_train)\n",
        "\n",
        "# Predicting results for test dataset\n",
        "y_pred = decision_tree.predict(x_val)\n",
        "\n",
        "\n",
        "# Export our trained model as a .dot file\n",
        "with open(\"tree1.dot\", 'w') as f:\n",
        "     f = tree.export_graphviz(decision_tree,\n",
        "                              out_file=f,\n",
        "                              max_depth = 5,\n",
        "                              impurity = True,\n",
        "                              feature_names = list(train.drop(['passenger_survived'], axis=1)),\n",
        "                              class_names = ['Died', 'Survived'],\n",
        "                              rounded = True,\n",
        "                              filled= True )\n",
        "        \n",
        "#Convert .dot to .png to allow display in web notebook\n",
        "check_call(['dot','-Tpng','tree1.dot','-o','tree1.png'])\n",
        "\n",
        "# Annotating chart with PIL\n",
        "img = Image.open(\"tree1.png\")\n",
        "draw = ImageDraw.Draw(img)\n",
        "font = ImageFont.truetype('/usr/share/fonts/truetype/liberation/LiberationSerif-Bold.ttf', 26)\n",
        "draw.text((10, 0), # Drawing offset (position)\n",
        "          '\"Title <= 1.5\" corresponds to \"Mr.\" title', # Text to draw\n",
        "          (0,0,255), # RGB desired color\n",
        "          font=font) # ImageFont object with desired font\n",
        "img.save('sample-out.png')\n",
        "PImage(\"sample-out.png\")\n",
        "\n",
        "# Code to check available fonts and respective paths\n",
        "# import matplotlib.font_manager\n",
        "# matplotlib.font_manager.findSystemFonts(fontpaths=None, fontext='ttf')"
      ],
      "execution_count": null,
      "outputs": [
        {
          "output_type": "execute_result",
          "data": {
            "image/png": "[encoded data removed]",
            "text/plain": [
              "<IPython.core.display.Image object>"
            ]
          },
          "metadata": {
            "tags": []
          },
          "execution_count": 20
        }
      ]
    },
    {
      "cell_type": "code",
      "metadata": {
        "id": "ENAONVIkt994",
        "colab_type": "code",
        "colab": {
          "base_uri": "https://localhost:8080/",
          "height": 173
        },
        "outputId": "c4a6988f-0063-411e-b798-3cef4e198c97"
      },
      "source": [
        "# Accuracy\n",
        "accuracy_dt = decision_tree.score(x_val, y_val)\n",
        "\n",
        "#Add to dataframe.\n",
        "results.loc['Decision Tree', 'Validation'] = accuracy_dt\n",
        "results"
      ],
      "execution_count": null,
      "outputs": [
        {
          "output_type": "execute_result",
          "data": {
            "text/html": [
              "<div>\n",
              "<style scoped>\n",
              "    .dataframe tbody tr th:only-of-type {\n",
              "        vertical-align: middle;\n",
              "    }\n",
              "\n",
              "    .dataframe tbody tr th {\n",
              "        vertical-align: top;\n",
              "    }\n",
              "\n",
              "    .dataframe thead th {\n",
              "        text-align: right;\n",
              "    }\n",
              "</style>\n",
              "<table border=\"1\" class=\"dataframe\">\n",
              "  <thead>\n",
              "    <tr style=\"text-align: right;\">\n",
              "      <th></th>\n",
              "      <th>Validation</th>\n",
              "    </tr>\n",
              "  </thead>\n",
              "  <tbody>\n",
              "    <tr>\n",
              "      <th>Decision Tree</th>\n",
              "      <td>0.846154</td>\n",
              "    </tr>\n",
              "    <tr>\n",
              "      <th>Support Vector Machine</th>\n",
              "      <td>NaN</td>\n",
              "    </tr>\n",
              "    <tr>\n",
              "      <th>Naive Bayes</th>\n",
              "      <td>NaN</td>\n",
              "    </tr>\n",
              "    <tr>\n",
              "      <th>Logistic Regression</th>\n",
              "      <td>NaN</td>\n",
              "    </tr>\n",
              "  </tbody>\n",
              "</table>\n",
              "</div>"
            ],
            "text/plain": [
              "                       Validation\n",
              "Decision Tree            0.846154\n",
              "Support Vector Machine        NaN\n",
              "Naive Bayes                   NaN\n",
              "Logistic Regression           NaN"
            ]
          },
          "metadata": {
            "tags": []
          },
          "execution_count": 21
        }
      ]
    },
    {
      "cell_type": "markdown",
      "metadata": {
        "id": "O1TeIT6nzAaW",
        "colab_type": "text"
      },
      "source": [
        "### SVM"
      ]
    },
    {
      "cell_type": "code",
      "metadata": {
        "id": "PuVGE0Tc5CMl",
        "colab_type": "code",
        "colab": {}
      },
      "source": [
        "from sklearn.svm import SVC \n",
        "from sklearn.metrics import accuracy_score "
      ],
      "execution_count": null,
      "outputs": []
    },
    {
      "cell_type": "code",
      "metadata": {
        "id": "AcopDbqyu7IW",
        "colab_type": "code",
        "colab": {}
      },
      "source": [
        "def svm(X_train, X_test, y_train, y_test):\n",
        "    \n",
        "    #Scale data\n",
        "    #scaler = StandardScaler()\n",
        "    #scaler.fit(X_train)\n",
        "    #X_train = scaler.transform(X_train)\n",
        "    #X_test = scaler.transform(X_test)\n",
        "    \n",
        "    #Create list of c values to try\n",
        "    c_vals = list(range(1, 100))\n",
        "    \n",
        "    #Accuracy list\n",
        "    accuracy = [0 for i in range(99)]\n",
        "    \n",
        "    #Loop through c_values\n",
        "    for i, c in enumerate(c_vals):\n",
        "        #Create support vector machine object\n",
        "        svc_model = SVC(C=c)\n",
        "        \n",
        "        #fit support vector machine model\n",
        "        svc_model.fit(X_train, y_train)\n",
        "        \n",
        "        #Make predictions\n",
        "        predictions = svc_model.predict(X_test)\n",
        "        \n",
        "        #add accuracy score to accuracy list\n",
        "        accuracy[i] = accuracy_score(y_test, predictions)\n",
        "    \n",
        "    print(\"Best C Value:\", c_vals[accuracy.index(max(accuracy))])\n",
        "    print(accuracy)\n",
        "    print(\"Prediction Accuracy: \", max(accuracy))\n",
        "    \n",
        "    return max(accuracy),predictions"
      ],
      "execution_count": null,
      "outputs": []
    },
    {
      "cell_type": "code",
      "metadata": {
        "id": "7p818aIh4hmS",
        "colab_type": "code",
        "colab": {
          "base_uri": "https://localhost:8080/",
          "height": 244
        },
        "outputId": "f1a97ecf-3071-48e7-c11a-91702786c110"
      },
      "source": [
        "#Get support vector machine results\n",
        "svm_acc,svm_preds = svm(x_train, x_val, y_train, y_val)\n",
        "\n",
        "#Add to dataframe.\n",
        "results.loc['Support Vector Machine', 'Validation'] = svm_acc\n",
        "results.head()"
      ],
      "execution_count": null,
      "outputs": [
        {
          "output_type": "stream",
          "text": [
            "Best C Value: 18\n",
            "[0.8251748251748252, 0.8251748251748252, 0.8251748251748252, 0.8181818181818182, 0.8181818181818182, 0.8181818181818182, 0.8181818181818182, 0.8111888111888111, 0.8181818181818182, 0.8181818181818182, 0.8181818181818182, 0.8111888111888111, 0.8111888111888111, 0.8251748251748252, 0.8251748251748252, 0.8251748251748252, 0.8251748251748252, 0.8321678321678322, 0.8321678321678322, 0.8321678321678322, 0.8321678321678322, 0.8321678321678322, 0.8321678321678322, 0.8321678321678322, 0.8321678321678322, 0.8321678321678322, 0.8321678321678322, 0.8321678321678322, 0.8321678321678322, 0.8321678321678322, 0.8321678321678322, 0.8321678321678322, 0.8321678321678322, 0.8321678321678322, 0.8321678321678322, 0.8321678321678322, 0.8321678321678322, 0.8321678321678322, 0.8321678321678322, 0.8321678321678322, 0.8321678321678322, 0.8321678321678322, 0.8321678321678322, 0.8321678321678322, 0.8321678321678322, 0.8321678321678322, 0.8321678321678322, 0.8251748251748252, 0.8251748251748252, 0.8251748251748252, 0.8251748251748252, 0.8251748251748252, 0.8251748251748252, 0.8251748251748252, 0.8251748251748252, 0.8251748251748252, 0.8251748251748252, 0.8251748251748252, 0.8251748251748252, 0.8251748251748252, 0.8251748251748252, 0.8251748251748252, 0.8251748251748252, 0.8181818181818182, 0.8181818181818182, 0.8181818181818182, 0.8181818181818182, 0.8181818181818182, 0.8181818181818182, 0.8181818181818182, 0.8181818181818182, 0.8181818181818182, 0.8181818181818182, 0.8181818181818182, 0.8181818181818182, 0.8181818181818182, 0.8181818181818182, 0.8181818181818182, 0.8181818181818182, 0.8181818181818182, 0.8181818181818182, 0.8181818181818182, 0.8181818181818182, 0.8181818181818182, 0.8181818181818182, 0.8181818181818182, 0.8181818181818182, 0.8181818181818182, 0.8181818181818182, 0.8181818181818182, 0.8181818181818182, 0.8181818181818182, 0.8181818181818182, 0.8181818181818182, 0.8181818181818182, 0.8181818181818182, 0.8181818181818182, 0.8181818181818182, 0.8181818181818182]\n",
            "Prediction Accuracy:  0.8321678321678322\n"
          ],
          "name": "stdout"
        },
        {
          "output_type": "execute_result",
          "data": {
            "text/html": [
              "<div>\n",
              "<style scoped>\n",
              "    .dataframe tbody tr th:only-of-type {\n",
              "        vertical-align: middle;\n",
              "    }\n",
              "\n",
              "    .dataframe tbody tr th {\n",
              "        vertical-align: top;\n",
              "    }\n",
              "\n",
              "    .dataframe thead th {\n",
              "        text-align: right;\n",
              "    }\n",
              "</style>\n",
              "<table border=\"1\" class=\"dataframe\">\n",
              "  <thead>\n",
              "    <tr style=\"text-align: right;\">\n",
              "      <th></th>\n",
              "      <th>Validation</th>\n",
              "    </tr>\n",
              "  </thead>\n",
              "  <tbody>\n",
              "    <tr>\n",
              "      <th>Decision Tree</th>\n",
              "      <td>0.846154</td>\n",
              "    </tr>\n",
              "    <tr>\n",
              "      <th>Support Vector Machine</th>\n",
              "      <td>0.832168</td>\n",
              "    </tr>\n",
              "    <tr>\n",
              "      <th>Naive Bayes</th>\n",
              "      <td>NaN</td>\n",
              "    </tr>\n",
              "    <tr>\n",
              "      <th>Logistic Regression</th>\n",
              "      <td>NaN</td>\n",
              "    </tr>\n",
              "  </tbody>\n",
              "</table>\n",
              "</div>"
            ],
            "text/plain": [
              "                       Validation\n",
              "Decision Tree            0.846154\n",
              "Support Vector Machine   0.832168\n",
              "Naive Bayes                   NaN\n",
              "Logistic Regression           NaN"
            ]
          },
          "metadata": {
            "tags": []
          },
          "execution_count": 25
        }
      ]
    },
    {
      "cell_type": "code",
      "metadata": {
        "id": "_1yzkQUYbyw5",
        "colab_type": "code",
        "colab": {
          "base_uri": "https://localhost:8080/",
          "height": 34
        },
        "outputId": "910a34e1-a8e1-46d6-9ae6-52cfa92d921a"
      },
      "source": [
        "#exportando svm del modelo final\n",
        "import joblib\n",
        "joblib.dump(svm, 'svm.joblib')"
      ],
      "execution_count": null,
      "outputs": [
        {
          "output_type": "execute_result",
          "data": {
            "text/plain": [
              "['svm.joblib']"
            ]
          },
          "metadata": {
            "tags": []
          },
          "execution_count": 26
        }
      ]
    },
    {
      "cell_type": "markdown",
      "metadata": {
        "id": "RtY6dKVD8OK1",
        "colab_type": "text"
      },
      "source": [
        "### Naive Bayes"
      ]
    },
    {
      "cell_type": "code",
      "metadata": {
        "id": "0_3hX8qX3HUa",
        "colab_type": "code",
        "colab": {}
      },
      "source": [
        "from sklearn.metrics import confusion_matrix as confussionMatrix\n",
        "from sklearn.metrics import classification_report\n",
        "import matplotlib.pyplot as plt\n",
        "import seaborn as sns\n",
        "from sklearn import metrics\n",
        "import pandas as pd"
      ],
      "execution_count": null,
      "outputs": []
    },
    {
      "cell_type": "code",
      "metadata": {
        "id": "hWTIPC78VW-h",
        "colab_type": "code",
        "colab": {}
      },
      "source": [
        "classes = y_train.unique()\n",
        "\n",
        "#calcular medias,varianzas y prior para cada clase\n",
        "means = []\n",
        "variances = []\n",
        "priors = []\n",
        "for c in classes:\n",
        "    f = x_train[np.array(y_train)==c]\n",
        "    mean = f.mean()\n",
        "    var = f.var()\n",
        "    prior = f.shape[0]/len(x_train)\n",
        "    means.append(np.array(mean))\n",
        "    variances.append(np.array(var))\n",
        "    priors.append(np.array(prior))\n",
        "\n",
        "#Calculo de probabilidades condicionales\n",
        "\n",
        "def getValueProb(c, x):\n",
        "        mean = means[c]\n",
        "        var = variances[c]\n",
        "        numerator = np.exp(- (x-mean)**2 / (2 * var))\n",
        "        denominator = np.sqrt(2 * np.pi * var)\n",
        "        return numerator / denominator\n",
        "\n",
        "def getPosteriors(x):\n",
        "    posts = []\n",
        "    for i,c in enumerate(classes):\n",
        "        prior = np.log(priors[i])#obtenemos la probabilidad de la clase\n",
        "        post = np.sum(np.log(getValueProb(i,x)))\n",
        "        post = post + prior\n",
        "        posts.append(post)\n",
        "    return classes[np.argmax(posts)]#retornamos la probabilidad mayor\n",
        "\n",
        "def nb_predict(X_test):\n",
        "        y_pred_test = [getPosteriors(x) for x in np.array(X_test)]\n",
        "        return y_pred_test\n",
        "\n",
        "# modelo\n",
        "nb_preds = nb_predict(x_val)#entrenando el modelo\n"
      ],
      "execution_count": null,
      "outputs": []
    },
    {
      "cell_type": "code",
      "metadata": {
        "id": "AQw9RKjqWfrH",
        "colab_type": "code",
        "colab": {
          "base_uri": "https://localhost:8080/",
          "height": 173
        },
        "outputId": "b5a4cbaf-d800-43f5-d7d8-5acfda7aceba"
      },
      "source": [
        "# Accuracy\n",
        "acc_nb = accuracy_score(y_val, nb_preds)\n",
        "#Add to dataframe.\n",
        "results.loc['Naive Bayes', 'Validation'] = acc_nb\n",
        "results.head()"
      ],
      "execution_count": null,
      "outputs": [
        {
          "output_type": "execute_result",
          "data": {
            "text/html": [
              "<div>\n",
              "<style scoped>\n",
              "    .dataframe tbody tr th:only-of-type {\n",
              "        vertical-align: middle;\n",
              "    }\n",
              "\n",
              "    .dataframe tbody tr th {\n",
              "        vertical-align: top;\n",
              "    }\n",
              "\n",
              "    .dataframe thead th {\n",
              "        text-align: right;\n",
              "    }\n",
              "</style>\n",
              "<table border=\"1\" class=\"dataframe\">\n",
              "  <thead>\n",
              "    <tr style=\"text-align: right;\">\n",
              "      <th></th>\n",
              "      <th>Validation</th>\n",
              "    </tr>\n",
              "  </thead>\n",
              "  <tbody>\n",
              "    <tr>\n",
              "      <th>Decision Tree</th>\n",
              "      <td>0.846154</td>\n",
              "    </tr>\n",
              "    <tr>\n",
              "      <th>Support Vector Machine</th>\n",
              "      <td>0.832168</td>\n",
              "    </tr>\n",
              "    <tr>\n",
              "      <th>Naive Bayes</th>\n",
              "      <td>0.804196</td>\n",
              "    </tr>\n",
              "    <tr>\n",
              "      <th>Logistic Regression</th>\n",
              "      <td>NaN</td>\n",
              "    </tr>\n",
              "  </tbody>\n",
              "</table>\n",
              "</div>"
            ],
            "text/plain": [
              "                       Validation\n",
              "Decision Tree            0.846154\n",
              "Support Vector Machine   0.832168\n",
              "Naive Bayes              0.804196\n",
              "Logistic Regression           NaN"
            ]
          },
          "metadata": {
            "tags": []
          },
          "execution_count": 35
        }
      ]
    },
    {
      "cell_type": "code",
      "metadata": {
        "id": "4-GO2DceWYHF",
        "colab_type": "code",
        "colab": {
          "base_uri": "https://localhost:8080/",
          "height": 34
        },
        "outputId": "8cff1dfb-8429-4879-d29e-c1a4364344de"
      },
      "source": [
        "#exportando svm del modelo final\n",
        "joblib.dump(nb, 'nb.joblib')"
      ],
      "execution_count": null,
      "outputs": [
        {
          "output_type": "execute_result",
          "data": {
            "text/plain": [
              "['nb.joblib']"
            ]
          },
          "metadata": {
            "tags": []
          },
          "execution_count": 36
        }
      ]
    },
    {
      "cell_type": "markdown",
      "metadata": {
        "id": "qBvieUDfU8bQ",
        "colab_type": "text"
      },
      "source": [
        "### Logistic Regression"
      ]
    },
    {
      "cell_type": "code",
      "metadata": {
        "id": "_Tbmr_RhWAuE",
        "colab_type": "code",
        "colab": {
          "base_uri": "https://localhost:8080/",
          "height": 34
        },
        "outputId": "9c1d8263-3f67-4d25-ecc1-fa4589e45733"
      },
      "source": [
        "import math\n",
        "import tensorflow as tf\n",
        "if tf.__version__.startswith(\"2.\"):\n",
        "  import tensorflow.compat.v1 as tf\n",
        "  tf.compat.v1.disable_v2_behavior()\n",
        "  tf.compat.v1.disable_eager_execution()\n",
        "  print(\"Enabled compatitility to tf1.x\")"
      ],
      "execution_count": 63,
      "outputs": [
        {
          "output_type": "stream",
          "text": [
            "Enabled compatitility to tf1.x\n"
          ],
          "name": "stdout"
        }
      ]
    },
    {
      "cell_type": "code",
      "metadata": {
        "id": "p5U1z8fZaasb",
        "colab_type": "code",
        "colab": {}
      },
      "source": [
        "X_train = x_train.values\n",
        "X_val = x_val.values\n",
        "Y_train = y_train.values\n",
        "Y_val = y_val.values\n",
        "\n",
        "X_Test = X_test.values"
      ],
      "execution_count": null,
      "outputs": []
    },
    {
      "cell_type": "code",
      "metadata": {
        "id": "13775BCgU7us",
        "colab_type": "code",
        "colab": {}
      },
      "source": [
        "def run_model(session, predict, loss_val, Xd, yd,\n",
        "              epochs=1, batch_size=64, print_every=100,\n",
        "              training=None, plot_losses=False):\n",
        "    # have tensorflow compute accuracy\n",
        "    correct_prediction = tf.equal(tf.argmax(predict,1), y)\n",
        "    accuracy = tf.reduce_mean(tf.cast(correct_prediction, tf.float32))\n",
        "    \n",
        "    # shuffle indicies\n",
        "    train_indicies = np.arange(Xd.shape[0])\n",
        "\n",
        "    training_now = training is not None\n",
        "    \n",
        "    # setting up variables we want to compute (and optimizing)\n",
        "    # if we have a training function, add that to things we compute\n",
        "    variables = [cost_op,correct_prediction,accuracy]\n",
        "    if training_now:\n",
        "        variables[-1] = training\n",
        "    \n",
        "    # counter \n",
        "    iter_cnt = 0\n",
        "    for e in np.arange(epochs):\n",
        "        # keep track of losses and accuracy\n",
        "        correct = 0\n",
        "        losses = []\n",
        "        # make sure we iterate over the dataset once\n",
        "        for i in np.arange(int(math.ceil(Xd.shape[0]/batch_size))):\n",
        "            # generate indicies for the batch\n",
        "            start_idx = (i*batch_size)%Xd.shape[0]\n",
        "            idx = train_indicies[start_idx:start_idx+batch_size]\n",
        "            \n",
        "            # create a feed dictionary for this batch\n",
        "            feed_dict = {x: Xd[idx,:],\n",
        "                         y: yd[idx],\n",
        "                         is_training: training_now }\n",
        "            # get batch size\n",
        "            actual_batch_size = yd[idx].shape[0]\n",
        "            # have tensorflow compute loss and correct predictions\n",
        "            # and (if given) perform a training step\n",
        "            loss, corr, _ = session.run(variables,feed_dict=feed_dict)\n",
        "            \n",
        "            # aggregate performance stats\n",
        "            losses.append(loss*actual_batch_size)\n",
        "            correct += np.sum(corr)\n",
        "            \n",
        "            # print every now and then\n",
        "            if training_now and (iter_cnt % print_every) == 0:\n",
        "                print(\"Iteration {0}: with minibatch training loss = {1:.3g} and accuracy of {2:.2g}\"\\\n",
        "                      .format(iter_cnt,loss,np.sum(corr)/actual_batch_size))\n",
        "            iter_cnt += 1\n",
        "        total_correct = correct/Xd.shape[0]\n",
        "        total_loss = np.sum(losses)/Xd.shape[0]\n",
        "        print(\"Epoch {2}, Overall loss = {0:.3g} and accuracy of {1:.3g}\"\n",
        "              .format(total_loss,total_correct,e+1))\n",
        "        if plot_losses and (e == epochs-1):\n",
        "            plt.plot(losses)\n",
        "            plt.grid(True)\n",
        "            plt.title('Epoch {} Loss'.format(e+1))\n",
        "            plt.xlabel('minibatch number')\n",
        "            plt.ylabel('minibatch loss')\n",
        "            plt.show()\n",
        "    return total_loss,total_correct"
      ],
      "execution_count": null,
      "outputs": []
    },
    {
      "cell_type": "markdown",
      "metadata": {
        "id": "gXNN2iHNVa6G",
        "colab_type": "text"
      },
      "source": [
        "Here the number of features = 10\n",
        "\n",
        "And the number of classes/Labels we are predicting (here just 2: survived or not_survived)"
      ]
    },
    {
      "cell_type": "code",
      "metadata": {
        "id": "Oi7MjsicVbbA",
        "colab_type": "code",
        "colab": {}
      },
      "source": [
        "numFeatures = X_train.shape[1]\n",
        "numLabels = 2"
      ],
      "execution_count": null,
      "outputs": []
    },
    {
      "cell_type": "markdown",
      "metadata": {
        "id": "OzXWREbRVmYE",
        "colab_type": "text"
      },
      "source": [
        "#### CREATING PLACEHOLDERS AND INITIALIZATIONS:\n",
        "\n",
        "* Placeholders: Here we need two placeholders for input X and output y respectively. A graph can be parameterized to accept external inputs, known as placeholders. A placeholder is a promise to provide a value later.\n",
        "\n",
        "* Lambda: Regularization Parameter. Avoids overfitting. Start with 0.001 value and increase or decrease it accordingly.\n",
        "\n",
        "* Learning Rate: In training deep networks, it is usually helpful to anneal the learning rate over time. Good intuition to have in mind is that with a high learning rate, the system contains too much kinetic energy and the parameter vector bounces around chaotically, unable to settle down into deeper, but narrower parts of the loss function."
      ]
    },
    {
      "cell_type": "code",
      "metadata": {
        "id": "71T0jEcLVgLd",
        "colab_type": "code",
        "colab": {}
      },
      "source": [
        "# clear old variables\n",
        "tf.reset_default_graph()\n",
        "\n",
        "x = tf.placeholder(tf.float32, [None, numFeatures])\n",
        "y = tf.placeholder(tf.int64, [None])\n",
        "is_training = tf.placeholder(tf.bool)\n",
        "Lambda = 0.001 #Regularization Parameter\n",
        "learningRate = tf.train.exponential_decay(learning_rate=1e-2,\n",
        "                                          global_step= 1,\n",
        "                                          decay_steps=X_train.shape[0],\n",
        "                                          decay_rate= 0.95,\n",
        "                                          staircase=True)"
      ],
      "execution_count": null,
      "outputs": []
    },
    {
      "cell_type": "markdown",
      "metadata": {
        "id": "RoZIhux3Wvgn",
        "colab_type": "text"
      },
      "source": [
        "LOGISTIC REGRESSION MODEL:\n",
        "\n",
        "This model uses Sigmoid as the activation function. L2 Regularization is used.\n",
        "\n",
        "fully_connected_layer = x*weights + bias\n",
        "\n",
        "activation_layer = sigmoid(fully_connected_layer)\n",
        "\n",
        "Loss = cross_entropy(activation_layer)+Lambda*L2_loss\n",
        "\n",
        "Using GradientDescent Optimizer"
      ]
    },
    {
      "cell_type": "code",
      "metadata": {
        "id": "IVBZPFk8V4E_",
        "colab_type": "code",
        "colab": {}
      },
      "source": [
        "# Logistic Regression\n",
        "def lr_model(x,y,is_training): \n",
        "    weights=tf.get_variable(\"weights\",shape=[numFeatures,numLabels])\n",
        "    bias=tf.get_variable(\"bias\",shape=[numLabels])\n",
        "    y_out = tf.matmul(x,weights)+bias\n",
        "    return (y_out,weights)\n",
        "\n",
        "y_out,weights = lr_model(x,y,is_training)"
      ],
      "execution_count": null,
      "outputs": []
    },
    {
      "cell_type": "code",
      "metadata": {
        "id": "s31FSqnuXN7r",
        "colab_type": "code",
        "colab": {}
      },
      "source": [
        "loss = tf.reduce_mean(tf.nn.sigmoid_cross_entropy_with_logits(labels=tf.one_hot(y,2),logits=y_out))\n",
        "regularizer = tf.nn.l2_loss(weights)\n",
        "cost_op = tf.reduce_mean(loss + Lambda * regularizer)\n",
        "optimizer = tf.train.GradientDescentOptimizer(learningRate)\n",
        "train_step = optimizer.minimize(cost_op)"
      ],
      "execution_count": null,
      "outputs": []
    },
    {
      "cell_type": "code",
      "metadata": {
        "id": "068vXEnnX7tt",
        "colab_type": "code",
        "colab": {}
      },
      "source": [
        "#Prediction\n",
        "prediction = tf.argmax(y_out,1)"
      ],
      "execution_count": null,
      "outputs": []
    },
    {
      "cell_type": "code",
      "metadata": {
        "id": "ybzSEsnWYBoP",
        "colab_type": "code",
        "colab": {}
      },
      "source": [
        "# Strating a session\n",
        "sess = tf.Session()\n",
        "sess.run(tf.global_variables_initializer())"
      ],
      "execution_count": null,
      "outputs": []
    },
    {
      "cell_type": "markdown",
      "metadata": {
        "id": "YhuHiomHYMdc",
        "colab_type": "text"
      },
      "source": [
        "TRAINING & VALIDATION\n",
        "\n",
        "Parameters:"
      ]
    },
    {
      "cell_type": "markdown",
      "metadata": {
        "id": "mbZsQexpYb1s",
        "colab_type": "text"
      },
      "source": [
        " session, predict, loss_val, Xd, yd,epochs, batch_size, print_every,training, plot_losses\n",
        "\n",
        " Here I am using epochs = 100, batch_size = 100, print_every = 100.\n",
        "\n",
        " Tune this accordingly to get best results."
      ]
    },
    {
      "cell_type": "code",
      "metadata": {
        "id": "goOWQARfYJBo",
        "colab_type": "code",
        "colab": {
          "base_uri": "https://localhost:8080/",
          "height": 1000
        },
        "outputId": "8feb4000-2e8c-4245-b9ab-b9df7eb14c4a"
      },
      "source": [
        "print('Training')\n",
        "run_model(sess,y_out,cost_op,X_train,Y_train,100,100,100,train_step,True)\n",
        "print('Validation')\n",
        "loss_lr, accuracy_lr = run_model(sess,y_out,cost_op,X_val,Y_val,1,100)"
      ],
      "execution_count": null,
      "outputs": [
        {
          "output_type": "stream",
          "text": [
            "Training\n",
            "Iteration 0: with minibatch training loss = 0.491 and accuracy of 0.8\n",
            "Epoch 1, Overall loss = 0.451 and accuracy of 0.814\n",
            "Epoch 2, Overall loss = 0.451 and accuracy of 0.814\n",
            "Epoch 3, Overall loss = 0.451 and accuracy of 0.814\n",
            "Epoch 4, Overall loss = 0.451 and accuracy of 0.814\n",
            "Epoch 5, Overall loss = 0.451 and accuracy of 0.814\n",
            "Epoch 6, Overall loss = 0.451 and accuracy of 0.814\n",
            "Epoch 7, Overall loss = 0.451 and accuracy of 0.814\n",
            "Epoch 8, Overall loss = 0.451 and accuracy of 0.814\n",
            "Epoch 9, Overall loss = 0.451 and accuracy of 0.814\n",
            "Epoch 10, Overall loss = 0.451 and accuracy of 0.814\n",
            "Epoch 11, Overall loss = 0.451 and accuracy of 0.814\n",
            "Epoch 12, Overall loss = 0.451 and accuracy of 0.814\n",
            "Epoch 13, Overall loss = 0.451 and accuracy of 0.814\n",
            "Epoch 14, Overall loss = 0.451 and accuracy of 0.814\n",
            "Epoch 15, Overall loss = 0.451 and accuracy of 0.814\n",
            "Epoch 16, Overall loss = 0.451 and accuracy of 0.814\n",
            "Iteration 100: with minibatch training loss = 0.376 and accuracy of 0.85\n",
            "Epoch 17, Overall loss = 0.451 and accuracy of 0.814\n",
            "Epoch 18, Overall loss = 0.451 and accuracy of 0.814\n",
            "Epoch 19, Overall loss = 0.451 and accuracy of 0.814\n",
            "Epoch 20, Overall loss = 0.45 and accuracy of 0.814\n",
            "Epoch 21, Overall loss = 0.45 and accuracy of 0.814\n",
            "Epoch 22, Overall loss = 0.45 and accuracy of 0.814\n",
            "Epoch 23, Overall loss = 0.45 and accuracy of 0.814\n",
            "Epoch 24, Overall loss = 0.45 and accuracy of 0.814\n",
            "Epoch 25, Overall loss = 0.45 and accuracy of 0.814\n",
            "Epoch 26, Overall loss = 0.45 and accuracy of 0.814\n",
            "Epoch 27, Overall loss = 0.45 and accuracy of 0.814\n",
            "Epoch 28, Overall loss = 0.45 and accuracy of 0.814\n",
            "Epoch 29, Overall loss = 0.45 and accuracy of 0.814\n",
            "Epoch 30, Overall loss = 0.45 and accuracy of 0.814\n",
            "Epoch 31, Overall loss = 0.45 and accuracy of 0.814\n",
            "Epoch 32, Overall loss = 0.45 and accuracy of 0.814\n",
            "Epoch 33, Overall loss = 0.45 and accuracy of 0.814\n",
            "Iteration 200: with minibatch training loss = 0.527 and accuracy of 0.76\n",
            "Epoch 34, Overall loss = 0.45 and accuracy of 0.821\n",
            "Epoch 35, Overall loss = 0.45 and accuracy of 0.821\n",
            "Epoch 36, Overall loss = 0.45 and accuracy of 0.821\n",
            "Epoch 37, Overall loss = 0.45 and accuracy of 0.822\n",
            "Epoch 38, Overall loss = 0.45 and accuracy of 0.822\n",
            "Epoch 39, Overall loss = 0.45 and accuracy of 0.822\n",
            "Epoch 40, Overall loss = 0.45 and accuracy of 0.822\n",
            "Epoch 41, Overall loss = 0.45 and accuracy of 0.822\n",
            "Epoch 42, Overall loss = 0.45 and accuracy of 0.822\n",
            "Epoch 43, Overall loss = 0.45 and accuracy of 0.822\n",
            "Epoch 44, Overall loss = 0.45 and accuracy of 0.822\n",
            "Epoch 45, Overall loss = 0.45 and accuracy of 0.822\n",
            "Epoch 46, Overall loss = 0.45 and accuracy of 0.822\n",
            "Epoch 47, Overall loss = 0.45 and accuracy of 0.822\n",
            "Epoch 48, Overall loss = 0.449 and accuracy of 0.822\n",
            "Epoch 49, Overall loss = 0.449 and accuracy of 0.822\n",
            "Epoch 50, Overall loss = 0.449 and accuracy of 0.822\n",
            "Iteration 300: with minibatch training loss = 0.489 and accuracy of 0.81\n",
            "Epoch 51, Overall loss = 0.449 and accuracy of 0.822\n",
            "Epoch 52, Overall loss = 0.449 and accuracy of 0.822\n",
            "Epoch 53, Overall loss = 0.449 and accuracy of 0.822\n",
            "Epoch 54, Overall loss = 0.449 and accuracy of 0.822\n",
            "Epoch 55, Overall loss = 0.449 and accuracy of 0.822\n",
            "Epoch 56, Overall loss = 0.449 and accuracy of 0.822\n",
            "Epoch 57, Overall loss = 0.449 and accuracy of 0.822\n",
            "Epoch 58, Overall loss = 0.449 and accuracy of 0.822\n",
            "Epoch 59, Overall loss = 0.449 and accuracy of 0.822\n",
            "Epoch 60, Overall loss = 0.449 and accuracy of 0.822\n",
            "Epoch 61, Overall loss = 0.449 and accuracy of 0.822\n",
            "Epoch 62, Overall loss = 0.449 and accuracy of 0.822\n",
            "Epoch 63, Overall loss = 0.449 and accuracy of 0.822\n",
            "Epoch 64, Overall loss = 0.449 and accuracy of 0.821\n",
            "Epoch 65, Overall loss = 0.449 and accuracy of 0.821\n",
            "Epoch 66, Overall loss = 0.449 and accuracy of 0.821\n",
            "Iteration 400: with minibatch training loss = 0.375 and accuracy of 0.84\n",
            "Epoch 67, Overall loss = 0.449 and accuracy of 0.821\n",
            "Epoch 68, Overall loss = 0.449 and accuracy of 0.821\n",
            "Epoch 69, Overall loss = 0.449 and accuracy of 0.821\n",
            "Epoch 70, Overall loss = 0.449 and accuracy of 0.821\n",
            "Epoch 71, Overall loss = 0.449 and accuracy of 0.821\n",
            "Epoch 72, Overall loss = 0.449 and accuracy of 0.821\n",
            "Epoch 73, Overall loss = 0.449 and accuracy of 0.821\n",
            "Epoch 74, Overall loss = 0.449 and accuracy of 0.821\n",
            "Epoch 75, Overall loss = 0.449 and accuracy of 0.821\n",
            "Epoch 76, Overall loss = 0.449 and accuracy of 0.821\n",
            "Epoch 77, Overall loss = 0.448 and accuracy of 0.821\n",
            "Epoch 78, Overall loss = 0.448 and accuracy of 0.821\n",
            "Epoch 79, Overall loss = 0.448 and accuracy of 0.821\n",
            "Epoch 80, Overall loss = 0.448 and accuracy of 0.821\n",
            "Epoch 81, Overall loss = 0.448 and accuracy of 0.821\n",
            "Epoch 82, Overall loss = 0.448 and accuracy of 0.821\n",
            "Epoch 83, Overall loss = 0.448 and accuracy of 0.821\n",
            "Iteration 500: with minibatch training loss = 0.526 and accuracy of 0.77\n",
            "Epoch 84, Overall loss = 0.448 and accuracy of 0.821\n",
            "Epoch 85, Overall loss = 0.448 and accuracy of 0.821\n",
            "Epoch 86, Overall loss = 0.448 and accuracy of 0.821\n",
            "Epoch 87, Overall loss = 0.448 and accuracy of 0.821\n",
            "Epoch 88, Overall loss = 0.448 and accuracy of 0.821\n",
            "Epoch 89, Overall loss = 0.448 and accuracy of 0.821\n",
            "Epoch 90, Overall loss = 0.448 and accuracy of 0.821\n",
            "Epoch 91, Overall loss = 0.448 and accuracy of 0.821\n",
            "Epoch 92, Overall loss = 0.448 and accuracy of 0.819\n",
            "Epoch 93, Overall loss = 0.448 and accuracy of 0.819\n",
            "Epoch 94, Overall loss = 0.448 and accuracy of 0.819\n",
            "Epoch 95, Overall loss = 0.448 and accuracy of 0.819\n",
            "Epoch 96, Overall loss = 0.448 and accuracy of 0.819\n",
            "Epoch 97, Overall loss = 0.448 and accuracy of 0.819\n",
            "Epoch 98, Overall loss = 0.448 and accuracy of 0.819\n",
            "Epoch 99, Overall loss = 0.448 and accuracy of 0.819\n",
            "Epoch 100, Overall loss = 0.448 and accuracy of 0.819\n"
          ],
          "name": "stdout"
        },
        {
          "output_type": "display_data",
          "data": {
            "image/png": "[encoded data removed]",
            "text/plain": [
              "<Figure size 432x288 with 1 Axes>"
            ]
          },
          "metadata": {
            "tags": [],
            "needs_background": "light"
          }
        },
        {
          "output_type": "stream",
          "text": [
            "Validation\n",
            "Epoch 1, Overall loss = 0.464 and accuracy of 0.818\n"
          ],
          "name": "stdout"
        }
      ]
    },
    {
      "cell_type": "markdown",
      "metadata": {
        "id": "6iGVD_Q8b8dr",
        "colab_type": "text"
      },
      "source": [
        "RECEIVER OPERATING CHARACTERISTIC(ROC) CURVE:\n",
        "\n",
        "ROC curve, is a graphical plot that illustrates the diagnostic ability of a binary classifier system as its discrimination threshold is varied.\n",
        "\n",
        "The ROC curve is created by plotting the true positive rate (TPR) against the false positive rate (FPR) at various threshold settings.\n",
        "\n",
        "This can be used to analyse if the classifier is skewed or not. (i.e) To make sure that the classifier doesn't always predict the same output"
      ]
    },
    {
      "cell_type": "code",
      "metadata": {
        "id": "GbGzttNmb3TV",
        "colab_type": "code",
        "colab": {
          "base_uri": "https://localhost:8080/",
          "height": 295
        },
        "outputId": "cc4242c4-c6c6-4958-ca82-c6aec189c4ef"
      },
      "source": [
        "predicted_vallabels = np.zeros(X_val.shape[0])\n",
        "for i in np.arange(0,X_val.shape[0]/50,dtype=np.int64):\n",
        "    start = i*50\n",
        "    end = (i+1)*50\n",
        "    predicted_vallabels[start:end] = sess.run(prediction,feed_dict={x: X_val[start:end,:],y: predicted_vallabels[start:end],is_training: False})\n",
        "# Compute ROC curve and ROC area for each class\n",
        "fpr = dict()\n",
        "tpr = dict()\n",
        "roc_auc = dict()\n",
        "fpr, tpr, _ = metrics.roc_curve(Y_val, predicted_vallabels)\n",
        "roc_auc = metrics.auc(fpr, tpr)\n",
        "plt.figure()\n",
        "plt.plot(fpr, tpr, color='darkorange', label='ROC curve (area = %0.2f)' % roc_auc)\n",
        "plt.plot([0, 1], [0, 1], color='navy', linestyle='--')\n",
        "plt.xlim([0.0, 1.0])\n",
        "plt.ylim([0.0, 1.05])\n",
        "plt.xlabel('False Positive Rate')\n",
        "plt.ylabel('True Positive Rate')\n",
        "plt.title('ROC_Curve')\n",
        "plt.legend(loc=\"lower right\")\n",
        "plt.show()"
      ],
      "execution_count": null,
      "outputs": [
        {
          "output_type": "display_data",
          "data": {
            "image/png": "[encoded data removed]",
            "text/plain": [
              "<Figure size 432x288 with 1 Axes>"
            ]
          },
          "metadata": {
            "tags": [],
            "needs_background": "light"
          }
        }
      ]
    },
    {
      "cell_type": "code",
      "metadata": {
        "id": "lKEIQJD9FErR",
        "colab_type": "code",
        "colab": {}
      },
      "source": [
        "def get_session(sess):\n",
        "    session = sess\n",
        "    while type(session).__name__ != 'Session':\n",
        "        #pylint: disable=W0212\n",
        "        session = session._sess\n",
        "    return session"
      ],
      "execution_count": 65,
      "outputs": []
    },
    {
      "cell_type": "code",
      "metadata": {
        "id": "nM-U7w3fC6GI",
        "colab_type": "code",
        "colab": {
          "base_uri": "https://localhost:8080/",
          "height": 35
        },
        "outputId": "dd90e2e8-9786-4eca-ee96-fd9635fb70ca"
      },
      "source": [
        "saver = tf.train.Saver()\n",
        "saver.save(get_session(sess), 'lr_model',global_step=1001) #guardando modelo"
      ],
      "execution_count": 66,
      "outputs": [
        {
          "output_type": "execute_result",
          "data": {
            "application/vnd.google.colaboratory.intrinsic": {
              "type": "string"
            },
            "text/plain": [
              "'lr_model-1001'"
            ]
          },
          "metadata": {
            "tags": []
          },
          "execution_count": 66
        }
      ]
    },
    {
      "cell_type": "code",
      "metadata": {
        "id": "NRWCvjKwhdBv",
        "colab_type": "code",
        "colab": {
          "base_uri": "https://localhost:8080/",
          "height": 173
        },
        "outputId": "470c9881-a970-48c9-be89-ace1eaeecc04"
      },
      "source": [
        "#Add to dataframe.\n",
        "results.loc['Logistic Regression', 'Validation'] = accuracy_lr\n",
        "results.to_csv(\"validations_results.csv\",index=False)\n",
        "results.head()"
      ],
      "execution_count": null,
      "outputs": [
        {
          "output_type": "execute_result",
          "data": {
            "text/html": [
              "<div>\n",
              "<style scoped>\n",
              "    .dataframe tbody tr th:only-of-type {\n",
              "        vertical-align: middle;\n",
              "    }\n",
              "\n",
              "    .dataframe tbody tr th {\n",
              "        vertical-align: top;\n",
              "    }\n",
              "\n",
              "    .dataframe thead th {\n",
              "        text-align: right;\n",
              "    }\n",
              "</style>\n",
              "<table border=\"1\" class=\"dataframe\">\n",
              "  <thead>\n",
              "    <tr style=\"text-align: right;\">\n",
              "      <th></th>\n",
              "      <th>Validation</th>\n",
              "    </tr>\n",
              "  </thead>\n",
              "  <tbody>\n",
              "    <tr>\n",
              "      <th>Decision Tree</th>\n",
              "      <td>0.846154</td>\n",
              "    </tr>\n",
              "    <tr>\n",
              "      <th>Support Vector Machine</th>\n",
              "      <td>0.832168</td>\n",
              "    </tr>\n",
              "    <tr>\n",
              "      <th>Naive Bayes</th>\n",
              "      <td>0.804196</td>\n",
              "    </tr>\n",
              "    <tr>\n",
              "      <th>Logistic Regression</th>\n",
              "      <td>0.818182</td>\n",
              "    </tr>\n",
              "  </tbody>\n",
              "</table>\n",
              "</div>"
            ],
            "text/plain": [
              "                       Validation\n",
              "Decision Tree            0.846154\n",
              "Support Vector Machine   0.832168\n",
              "Naive Bayes              0.804196\n",
              "Logistic Regression      0.818182"
            ]
          },
          "metadata": {
            "tags": []
          },
          "execution_count": 59
        }
      ]
    },
    {
      "cell_type": "markdown",
      "metadata": {
        "id": "V0ugifVfFaEq",
        "colab_type": "text"
      },
      "source": [
        "Según la tabla anterior, se puede concluir que el mejor modelo para predecir la data es Decision Tree"
      ]
    },
    {
      "cell_type": "markdown",
      "metadata": {
        "id": "iVvWaV3XkcPt",
        "colab_type": "text"
      },
      "source": [
        "## K-fold cross validation (sklearn)"
      ]
    },
    {
      "cell_type": "code",
      "metadata": {
        "id": "KJpxeCqAmqsz",
        "colab_type": "code",
        "colab": {}
      },
      "source": [
        "from collections import Counter\n",
        "\n",
        "from sklearn.naive_bayes import GaussianNB\n",
        "from sklearn.linear_model import LogisticRegression\n",
        "from sklearn.tree import DecisionTreeClassifier\n",
        "from sklearn.svm import SVC\n",
        "from sklearn.model_selection import GridSearchCV, cross_val_score, StratifiedKFold, learning_curve"
      ],
      "execution_count": 67,
      "outputs": []
    },
    {
      "cell_type": "code",
      "metadata": {
        "id": "GFaFdlNJi0Kn",
        "colab_type": "code",
        "colab": {}
      },
      "source": [
        "# Cross validate model with Kfold stratified cross val\n",
        "kfold = StratifiedKFold(n_splits=4)"
      ],
      "execution_count": 68,
      "outputs": []
    },
    {
      "cell_type": "code",
      "metadata": {
        "id": "8RvhxJeaksq9",
        "colab_type": "code",
        "colab": {
          "base_uri": "https://localhost:8080/",
          "height": 295
        },
        "outputId": "f3178e13-f144-46c4-f8eb-0fdf8a205ad9"
      },
      "source": [
        "# Modeling step Test differents algorithms \n",
        "random_state = 2\n",
        "classifiers = []\n",
        "classifiers.append(DecisionTreeClassifier(random_state=random_state))\n",
        "classifiers.append(SVC(random_state=random_state))\n",
        "classifiers.append(GaussianNB())\n",
        "classifiers.append(LogisticRegression(random_state = random_state))\n",
        "\n",
        "cv_results = []\n",
        "for classifier in classifiers :\n",
        "    cv_results.append(cross_val_score(classifier, X_train, y = Y_train, scoring = \"accuracy\", cv = kfold, n_jobs=4))\n",
        "\n",
        "cv_means = []\n",
        "cv_std = []\n",
        "for cv_result in cv_results:\n",
        "    cv_means.append(cv_result.mean())\n",
        "    cv_std.append(cv_result.std())\n",
        "\n",
        "cv_res = pd.DataFrame({\"CrossValMeans\":cv_means,\"CrossValerrors\": cv_std,\"Algorithm\":[\"DecisionTree\", \"SVM\",\"Naive Bayes\",\"LogisticRegression\"]})\n",
        "\n",
        "g = sns.barplot(\"CrossValMeans\",\"Algorithm\",data = cv_res, palette=\"Set3\",orient = \"h\",**{'xerr':cv_std})\n",
        "g.set_xlabel(\"Mean Accuracy\")\n",
        "g = g.set_title(\"Cross validation scores\")"
      ],
      "execution_count": 69,
      "outputs": [
        {
          "output_type": "display_data",
          "data": {
            "image/png": "[encoded data removed]",
            "text/plain": [
              "<Figure size 432x288 with 1 Axes>"
            ]
          },
          "metadata": {
            "tags": [],
            "needs_background": "light"
          }
        }
      ]
    },
    {
      "cell_type": "code",
      "metadata": {
        "id": "Wel5tlwzG3jR",
        "colab_type": "code",
        "colab": {
          "base_uri": "https://localhost:8080/",
          "height": 173
        },
        "outputId": "b631e391-461f-4355-fedf-f04325c903cc"
      },
      "source": [
        "cv_res"
      ],
      "execution_count": 70,
      "outputs": [
        {
          "output_type": "execute_result",
          "data": {
            "text/html": [
              "<div>\n",
              "<style scoped>\n",
              "    .dataframe tbody tr th:only-of-type {\n",
              "        vertical-align: middle;\n",
              "    }\n",
              "\n",
              "    .dataframe tbody tr th {\n",
              "        vertical-align: top;\n",
              "    }\n",
              "\n",
              "    .dataframe thead th {\n",
              "        text-align: right;\n",
              "    }\n",
              "</style>\n",
              "<table border=\"1\" class=\"dataframe\">\n",
              "  <thead>\n",
              "    <tr style=\"text-align: right;\">\n",
              "      <th></th>\n",
              "      <th>CrossValMeans</th>\n",
              "      <th>CrossValerrors</th>\n",
              "      <th>Algorithm</th>\n",
              "    </tr>\n",
              "  </thead>\n",
              "  <tbody>\n",
              "    <tr>\n",
              "      <th>0</th>\n",
              "      <td>0.778588</td>\n",
              "      <td>0.031465</td>\n",
              "      <td>DecisionTree</td>\n",
              "    </tr>\n",
              "    <tr>\n",
              "      <th>1</th>\n",
              "      <td>0.822491</td>\n",
              "      <td>0.014458</td>\n",
              "      <td>SVM</td>\n",
              "    </tr>\n",
              "    <tr>\n",
              "      <th>2</th>\n",
              "      <td>0.778674</td>\n",
              "      <td>0.058668</td>\n",
              "      <td>Naive Bayes</td>\n",
              "    </tr>\n",
              "    <tr>\n",
              "      <th>3</th>\n",
              "      <td>0.803211</td>\n",
              "      <td>0.028223</td>\n",
              "      <td>LogisticRegression</td>\n",
              "    </tr>\n",
              "  </tbody>\n",
              "</table>\n",
              "</div>"
            ],
            "text/plain": [
              "   CrossValMeans  CrossValerrors           Algorithm\n",
              "0       0.778588        0.031465        DecisionTree\n",
              "1       0.822491        0.014458                 SVM\n",
              "2       0.778674        0.058668         Naive Bayes\n",
              "3       0.803211        0.028223  LogisticRegression"
            ]
          },
          "metadata": {
            "tags": []
          },
          "execution_count": 70
        }
      ]
    },
    {
      "cell_type": "markdown",
      "metadata": {
        "id": "m3vqhOSVGteV",
        "colab_type": "text"
      },
      "source": [
        "Al comparar la tabla anterior con este gráfico y observar los valores de precisión para la primera práctica, se tiene que:\n",
        "\n",
        "Decision Tree > SVM > Regresión Logística > Naive Bayes\n",
        "\n",
        "Mientras que cuando se implementa el k-fold Cross Validation se obtiene:\n",
        "\n",
        "SVM > Regresión Logística > Naive Bayes > Decision Tree \n",
        " \n",
        "Los únicos que alcanzan valores por encima del 80% de precisión son SVM y regresión logística (0.82 y 0.80 respectivamente).\n",
        "\n",
        "* Conclusión de utilizar esta técnica:  \n",
        " La técnica del k-fold Cross Validation es una de las maneras más convenientes de seleccionar un modelo de aprendizaje automático frente a un problema o un conjunto de datos en particular. Ya que la Validación Cruzada aplica de manera iterativa cada modelo sobre todo el conjunto de entrenamiento tomando diversas (k) particiones, podemos afirmar que el resultado en promedio nos da una idea precisa de cuál es el desempeño del modelo de clasificación sobre el conjunto de datos entero, de modo que podemos caracterizar de manera adecuada cada algoritmo.  \n",
        "Sin embargo, aunado a la Validación Cruzada, a fin de mejorar todavía más el desempeño de los modelos sería necesario como siguiente paso hacer una afinación de los hiper parámetros de los modelos, es decir, todos esos parámetros que no se modifican durante la fase de entrenamiento, sino que son variables ajustables de cada modelo (como el valor de k en k-NN, el valor de C en las SVM, o la cantidad de árboles en el Random Forest, por mencionar algunos) y que, sin duda, van a afectar la calidad de cada uno de ellos.  \n",
        "Al final, la selección del mejor modelo para un problema dado dependerá no solo del resultado de la Validación Cruzada, sino de cuánto más se pueden afinar los parámetros de los modelos a fin de obtener resultados con alta precisión y poco error, además de baja variancia y bajo bias, es decir, modelos adecuados que no estén ni sub-entrenados ni sobre-entrenados."
      ]
    },
    {
      "cell_type": "markdown",
      "metadata": {
        "id": "vvTvECC9ppLL",
        "colab_type": "text"
      },
      "source": [
        "## Prueba/ Evaluación final"
      ]
    },
    {
      "cell_type": "code",
      "metadata": {
        "id": "kL4m0OwzlS5j",
        "colab_type": "code",
        "colab": {
          "base_uri": "https://localhost:8080/",
          "height": 88
        },
        "outputId": "4daa23e9-a4fc-4a28-ef09-d3e5b48e747c"
      },
      "source": [
        "#Get prediction of models.\n",
        "# Decision tree\n",
        "pred_dt_ = decision_tree.predict(X_test)\n",
        "#SVM\n",
        "svm_acc_,svm_preds_ = svm(x_train, X_test, y_train, test['passenger_survived'])\n",
        "# Naive Bayes\n",
        "nb_preds_ = nb_predict(X_test)\n",
        "# Logistic regression\n",
        "predicted_labels = np.zeros(X_Test.shape[0])\n",
        "for i in np.arange(0,X_test.shape[0]/50,dtype=np.int64):\n",
        "    start = i*50\n",
        "    end = (i+1)*50\n",
        "    predicted_labels[start:end] = sess.run(prediction,feed_dict={x: X_Test[start:end,:],y: predicted_labels[start:end],is_training: False})"
      ],
      "execution_count": 80,
      "outputs": [
        {
          "output_type": "stream",
          "text": [
            "Best C Value: 70\n",
            "[0.7988826815642458, 0.7988826815642458, 0.7988826815642458, 0.7932960893854749, 0.7932960893854749, 0.8044692737430168, 0.8044692737430168, 0.7932960893854749, 0.8044692737430168, 0.8044692737430168, 0.8044692737430168, 0.8044692737430168, 0.8044692737430168, 0.8044692737430168, 0.8044692737430168, 0.8044692737430168, 0.8044692737430168, 0.8044692737430168, 0.8044692737430168, 0.8044692737430168, 0.8044692737430168, 0.8044692737430168, 0.8044692737430168, 0.8044692737430168, 0.8044692737430168, 0.8044692737430168, 0.8044692737430168, 0.8044692737430168, 0.8044692737430168, 0.8044692737430168, 0.8044692737430168, 0.8044692737430168, 0.8044692737430168, 0.8044692737430168, 0.8044692737430168, 0.8044692737430168, 0.8044692737430168, 0.8044692737430168, 0.8044692737430168, 0.8044692737430168, 0.8044692737430168, 0.8044692737430168, 0.8044692737430168, 0.8044692737430168, 0.8044692737430168, 0.8044692737430168, 0.8044692737430168, 0.8044692737430168, 0.8044692737430168, 0.8044692737430168, 0.8044692737430168, 0.8044692737430168, 0.8044692737430168, 0.8044692737430168, 0.8044692737430168, 0.8044692737430168, 0.8044692737430168, 0.8044692737430168, 0.8044692737430168, 0.8044692737430168, 0.8044692737430168, 0.8044692737430168, 0.8044692737430168, 0.8044692737430168, 0.8044692737430168, 0.8044692737430168, 0.8044692737430168, 0.8044692737430168, 0.8044692737430168, 0.8100558659217877, 0.8100558659217877, 0.8100558659217877, 0.8100558659217877, 0.8100558659217877, 0.8100558659217877, 0.8100558659217877, 0.8100558659217877, 0.8100558659217877, 0.8100558659217877, 0.8100558659217877, 0.8100558659217877, 0.8100558659217877, 0.8100558659217877, 0.8100558659217877, 0.8100558659217877, 0.8100558659217877, 0.8100558659217877, 0.8100558659217877, 0.8100558659217877, 0.8100558659217877, 0.8100558659217877, 0.8044692737430168, 0.8044692737430168, 0.8044692737430168, 0.8044692737430168, 0.8044692737430168, 0.8044692737430168, 0.8044692737430168, 0.8044692737430168]\n",
            "Prediction Accuracy:  0.8100558659217877\n"
          ],
          "name": "stdout"
        }
      ]
    },
    {
      "cell_type": "code",
      "metadata": {
        "id": "KuVBclGyfQhW",
        "colab_type": "code",
        "colab": {
          "base_uri": "https://localhost:8080/",
          "height": 173
        },
        "outputId": "90432d17-7c1e-449d-80c9-242dce1ce3ab"
      },
      "source": [
        "# Accuracy\n",
        "from sklearn.metrics import accuracy_score\n",
        "\n",
        "y_true = test['passenger_survived']\n",
        "acc_dt = accuracy_score(y_true, pred_dt_)\n",
        "acc_nb_ = accuracy_score(y_true, nb_preds_)\n",
        "acc_lr = accuracy_score(y_true, predicted_labels)\n",
        "\n",
        "acc_all = pd.DataFrame(columns=['Validation'], index=['Decision Tree', 'Support Vector Machine', 'Naive Bayes', 'Logistic Regression'])\n",
        "acc_all.loc['Decision Tree', 'Validation'] = acc_dt\n",
        "acc_all.loc['Support Vector Machine', 'Validation'] = svm_acc_\n",
        "acc_all.loc['Naive Bayes', 'Validation'] = acc_nb_\n",
        "acc_all.loc['Logistic Regression', 'Validation'] = acc_lr\n",
        "acc_all.head()"
      ],
      "execution_count": 81,
      "outputs": [
        {
          "output_type": "execute_result",
          "data": {
            "text/html": [
              "<div>\n",
              "<style scoped>\n",
              "    .dataframe tbody tr th:only-of-type {\n",
              "        vertical-align: middle;\n",
              "    }\n",
              "\n",
              "    .dataframe tbody tr th {\n",
              "        vertical-align: top;\n",
              "    }\n",
              "\n",
              "    .dataframe thead th {\n",
              "        text-align: right;\n",
              "    }\n",
              "</style>\n",
              "<table border=\"1\" class=\"dataframe\">\n",
              "  <thead>\n",
              "    <tr style=\"text-align: right;\">\n",
              "      <th></th>\n",
              "      <th>Validation</th>\n",
              "    </tr>\n",
              "  </thead>\n",
              "  <tbody>\n",
              "    <tr>\n",
              "      <th>Decision Tree</th>\n",
              "      <td>0.798883</td>\n",
              "    </tr>\n",
              "    <tr>\n",
              "      <th>Support Vector Machine</th>\n",
              "      <td>0.810056</td>\n",
              "    </tr>\n",
              "    <tr>\n",
              "      <th>Naive Bayes</th>\n",
              "      <td>0.765363</td>\n",
              "    </tr>\n",
              "    <tr>\n",
              "      <th>Logistic Regression</th>\n",
              "      <td>0.810056</td>\n",
              "    </tr>\n",
              "  </tbody>\n",
              "</table>\n",
              "</div>"
            ],
            "text/plain": [
              "                       Validation\n",
              "Decision Tree            0.798883\n",
              "Support Vector Machine   0.810056\n",
              "Naive Bayes              0.765363\n",
              "Logistic Regression      0.810056"
            ]
          },
          "metadata": {
            "tags": []
          },
          "execution_count": 81
        }
      ]
    },
    {
      "cell_type": "markdown",
      "metadata": {
        "id": "DpSF_S2dI4bx",
        "colab_type": "text"
      },
      "source": [
        "Los valores obtenidos en esta tabla final, coinciden con los obtenidos en el K-fold cross validation, donde se obtiene que los modelos que mejor predicen son SVM y regresión logística"
      ]
    },
    {
      "cell_type": "code",
      "metadata": {
        "id": "U3dYWzeHTQC0",
        "colab_type": "code",
        "colab": {
          "base_uri": "https://localhost:8080/",
          "height": 419
        },
        "outputId": "ab6774b3-5d9c-43b8-c99d-14889123be6a"
      },
      "source": [
        "all_preds = {'Survived': y_true,'DT': pred_dt_, 'SVM': svm_preds_, 'NB': nb_preds_,'LR': predicted_labels}\n",
        "predictions_all = pd.DataFrame(data = all_preds)\n",
        "predictions_all"
      ],
      "execution_count": 121,
      "outputs": [
        {
          "output_type": "execute_result",
          "data": {
            "text/html": [
              "<div>\n",
              "<style scoped>\n",
              "    .dataframe tbody tr th:only-of-type {\n",
              "        vertical-align: middle;\n",
              "    }\n",
              "\n",
              "    .dataframe tbody tr th {\n",
              "        vertical-align: top;\n",
              "    }\n",
              "\n",
              "    .dataframe thead th {\n",
              "        text-align: right;\n",
              "    }\n",
              "</style>\n",
              "<table border=\"1\" class=\"dataframe\">\n",
              "  <thead>\n",
              "    <tr style=\"text-align: right;\">\n",
              "      <th></th>\n",
              "      <th>Survived</th>\n",
              "      <th>DT</th>\n",
              "      <th>SVM</th>\n",
              "      <th>NB</th>\n",
              "      <th>LR</th>\n",
              "    </tr>\n",
              "  </thead>\n",
              "  <tbody>\n",
              "    <tr>\n",
              "      <th>386</th>\n",
              "      <td>0</td>\n",
              "      <td>0</td>\n",
              "      <td>0</td>\n",
              "      <td>0</td>\n",
              "      <td>0.0</td>\n",
              "    </tr>\n",
              "    <tr>\n",
              "      <th>351</th>\n",
              "      <td>0</td>\n",
              "      <td>0</td>\n",
              "      <td>0</td>\n",
              "      <td>1</td>\n",
              "      <td>0.0</td>\n",
              "    </tr>\n",
              "    <tr>\n",
              "      <th>681</th>\n",
              "      <td>1</td>\n",
              "      <td>0</td>\n",
              "      <td>0</td>\n",
              "      <td>1</td>\n",
              "      <td>0.0</td>\n",
              "    </tr>\n",
              "    <tr>\n",
              "      <th>804</th>\n",
              "      <td>1</td>\n",
              "      <td>0</td>\n",
              "      <td>0</td>\n",
              "      <td>0</td>\n",
              "      <td>0.0</td>\n",
              "    </tr>\n",
              "    <tr>\n",
              "      <th>695</th>\n",
              "      <td>0</td>\n",
              "      <td>0</td>\n",
              "      <td>0</td>\n",
              "      <td>0</td>\n",
              "      <td>0.0</td>\n",
              "    </tr>\n",
              "    <tr>\n",
              "      <th>...</th>\n",
              "      <td>...</td>\n",
              "      <td>...</td>\n",
              "      <td>...</td>\n",
              "      <td>...</td>\n",
              "      <td>...</td>\n",
              "    </tr>\n",
              "    <tr>\n",
              "      <th>881</th>\n",
              "      <td>0</td>\n",
              "      <td>0</td>\n",
              "      <td>0</td>\n",
              "      <td>0</td>\n",
              "      <td>0.0</td>\n",
              "    </tr>\n",
              "    <tr>\n",
              "      <th>809</th>\n",
              "      <td>1</td>\n",
              "      <td>1</td>\n",
              "      <td>1</td>\n",
              "      <td>1</td>\n",
              "      <td>1.0</td>\n",
              "    </tr>\n",
              "    <tr>\n",
              "      <th>110</th>\n",
              "      <td>0</td>\n",
              "      <td>0</td>\n",
              "      <td>0</td>\n",
              "      <td>1</td>\n",
              "      <td>0.0</td>\n",
              "    </tr>\n",
              "    <tr>\n",
              "      <th>342</th>\n",
              "      <td>0</td>\n",
              "      <td>0</td>\n",
              "      <td>0</td>\n",
              "      <td>0</td>\n",
              "      <td>0.0</td>\n",
              "    </tr>\n",
              "    <tr>\n",
              "      <th>84</th>\n",
              "      <td>1</td>\n",
              "      <td>1</td>\n",
              "      <td>1</td>\n",
              "      <td>1</td>\n",
              "      <td>1.0</td>\n",
              "    </tr>\n",
              "  </tbody>\n",
              "</table>\n",
              "<p>179 rows × 5 columns</p>\n",
              "</div>"
            ],
            "text/plain": [
              "     Survived  DT  SVM  NB   LR\n",
              "386         0   0    0   0  0.0\n",
              "351         0   0    0   1  0.0\n",
              "681         1   0    0   1  0.0\n",
              "804         1   0    0   0  0.0\n",
              "695         0   0    0   0  0.0\n",
              "..        ...  ..  ...  ..  ...\n",
              "881         0   0    0   0  0.0\n",
              "809         1   1    1   1  1.0\n",
              "110         0   0    0   1  0.0\n",
              "342         0   0    0   0  0.0\n",
              "84          1   1    1   1  1.0\n",
              "\n",
              "[179 rows x 5 columns]"
            ]
          },
          "metadata": {
            "tags": []
          },
          "execution_count": 121
        }
      ]
    },
    {
      "cell_type": "code",
      "metadata": {
        "id": "MRXDrgVWcqPU",
        "colab_type": "code",
        "colab": {}
      },
      "source": [
        "# Guardando predicciones\n",
        "predictions_all.to_csv(\"final_preds.csv\",index=False)"
      ],
      "execution_count": 122,
      "outputs": []
    },
    {
      "cell_type": "markdown",
      "metadata": {
        "id": "m57T10OLlV3Y",
        "colab_type": "text"
      },
      "source": [
        "Combinando resultado de predicciones"
      ]
    },
    {
      "cell_type": "code",
      "metadata": {
        "id": "rQkVwIFcd--P",
        "colab_type": "code",
        "colab": {
          "base_uri": "https://localhost:8080/",
          "height": 34
        },
        "outputId": "27df1e67-bf90-4ec7-e916-a09d0ad9f6f4"
      },
      "source": [
        "preds_all = ((pred_dt_+svm_preds_+predicted_labels)/3).astype(int)\n",
        "#accuracy\n",
        "accuracy_score(y_true, preds_all)"
      ],
      "execution_count": 79,
      "outputs": [
        {
          "output_type": "execute_result",
          "data": {
            "text/plain": [
              "0.8100558659217877"
            ]
          },
          "metadata": {
            "tags": []
          },
          "execution_count": 79
        }
      ]
    },
    {
      "cell_type": "markdown",
      "metadata": {
        "id": "ch_PyqPpKPDp",
        "colab_type": "text"
      },
      "source": [
        "Se obtiene la misma exactitud que si se utilizara SVM o regresión logística solos"
      ]
    },
    {
      "cell_type": "markdown",
      "metadata": {
        "id": "zXQ87xTUJiMD",
        "colab_type": "text"
      },
      "source": [
        "## Conclusiones\n",
        "Los modelos qu emejor predicen son SVM y regresión logística.\n",
        "\n",
        "* Modelo árbol de decisión\n",
        "Se usó el paquete scikit-learn tree, DecisionTreeClassifier, para realizar el árbol de desición, investigando los parametros que recibe la función, se experimento con diferentes de estos para obtener el mejor modelo según las métricas de nuestro interés.\n",
        "\n",
        "* Modelo SVM.\n",
        "Se usó el paquete de scikit-learn svm, y su función de entranimiento fit, también se realizo la busqueda de los mejores hyperparametros para la función, evaluando las métricas de interés.\n",
        "\n",
        "* Modelo Naive Bayes\n",
        "Se implementó el modelo con numpy y pandas; se realizó un modelo utilizando estimación de verosimilitud para el cálculo de probabilidades condicionales, estimando medias y variancias de las clases.\n",
        "\n",
        "\n",
        "* Modelo Regresión Logistica\n",
        "Se implementó el modelo utilizando L2 loss con tensorflow, con las funciones sigomoid o softmax para el entrenamiento del modelo.\n",
        "\n",
        "\n",
        "## Deployment, Evaluación y prueba final.\n",
        "Utilizando el dataset de pruebas se realizó la evaluación final de los modelos, según nuestras metricas de interés se cumplió con el objetivo. Los modelos entrenados cumplen con las espectativas y son capaces de realizar predicciones acertadas en su mayoría.\n",
        "\n",
        "Para la elección y decisión del valor a predecir, se realizo la técnica de k-fold cross validation de los 4 modelos, utilizando scikit-learn.\n",
        "\n",
        "\n",
        "## Experiencias y Aprendizaje.\n",
        " \n",
        "Exportar modelos con tensorflow  \n",
        "Exportar modelos de scikit-learn  \n",
        "Algoritmo de naive bayes  \n",
        "Experimentación de modelos y elección de los mejores hyperparametros   \n",
        "\n",
        "## Recomendaciones\n",
        "Analizar, limpiar y transormar los datos, aunque sea lo que más tiempo conlleva es lo más importante para construir modelos y que estos sean de calidad.\n",
        "Experimentar y evaluar los modelos con diferentes hyperparametros, evaluando las metricas de interés, es uno de los pasos más importantes para la creación de un algoritmo de machine learning.\n",
        "Utilizar técnicas de validación para mejorar el modelo."
      ]
    }
  ]
}